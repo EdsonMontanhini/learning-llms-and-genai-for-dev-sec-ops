{
 "cells": [
  {
   "cell_type": "markdown",
   "metadata": {},
   "source": [
    "Now go and build your own tools ! \n",
    "Inspiration: <https://github.com/k8sgpt-ai/k8sgpt/>\n"
   ]
  },
  {
   "cell_type": "markdown",
   "metadata": {},
   "source": [
    "From <https://github.com/k8sgpt-ai/k8sgpt/blob/067c3483e6b379bd710c7f799de63bc1890b6c81/pkg/ai/prompts.go#L4>\n",
    "```go\n",
    "package ai\n",
    "\n",
    "const (\n",
    "\tdefault_prompt = `Simplify the following Kubernetes error message delimited by triple dashes written in --- %s --- language; --- %s ---.\n",
    "\tProvide the most possible solution in a step by step style in no more than 280 characters. Write the output in the following format:\n",
    "\tError: {Explain error here}\n",
    "\tSolution: {Step by step solution here}\n",
    "\t`\n",
    "\ttrivy_prompt = \"Explain the following trivy scan result and the detail risk or root cause of the CVE ID, then provide a solution. Response in %s: %s\"\n",
    ")\n",
    "\n",
    "var PromptMap = map[string]string{\n",
    "\t\"default\":             default_prompt,\n",
    "\t\"VulnerabilityReport\": trivy_prompt, // for Trivy integration, the key should match `Result.Kind` in pkg/common/types.go\n",
    "}\n",
    "```"
   ]
  }
 ],
 "metadata": {
  "language_info": {
   "name": "python"
  },
  "orig_nbformat": 4
 },
 "nbformat": 4,
 "nbformat_minor": 2
}

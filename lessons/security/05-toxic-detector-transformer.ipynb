{
 "cells": [
  {
   "cell_type": "code",
   "execution_count": null,
   "metadata": {},
   "outputs": [],
   "source": [
    "%pip install transformers tdqm"
   ]
  },
  {
   "cell_type": "code",
   "execution_count": 2,
   "metadata": {},
   "outputs": [
    {
     "name": "stdout",
     "output_type": "stream",
     "text": [
      "[{'label': 'toxic', 'score': 0.9579606056213379}]\n",
      "[{'label': 'non-toxic', 'score': 0.9936043620109558}]\n"
     ]
    }
   ],
   "source": [
    "\n",
    "# https://github.com/whylabs/langkit/blob/main/langkit/toxicity.py\n",
    "\n",
    "from transformers import (\n",
    "    AutoModelForSequenceClassification,\n",
    "    AutoTokenizer,\n",
    "    TextClassificationPipeline,\n",
    ")\n",
    "\n",
    "_toxicity_model_path = \"martin-ha/toxic-comment-model\"\n",
    "\n",
    "model_path = _toxicity_model_path\n",
    "_toxicity_tokenizer = AutoTokenizer.from_pretrained(model_path)\n",
    "model = AutoModelForSequenceClassification.from_pretrained(model_path)\n",
    "_toxicity_pipeline = TextClassificationPipeline(\n",
    "        model=model, tokenizer=_toxicity_tokenizer\n",
    "    )\n",
    "\n",
    "text=\"You really suck\"\n",
    "result = _toxicity_pipeline(\n",
    "        text, truncation=True, max_length=_toxicity_tokenizer.model_max_length\n",
    "    )\n",
    "print(result)\n",
    "\n",
    "\n",
    "text=\"I love you\"\n",
    "result = _toxicity_pipeline(\n",
    "        text, truncation=True, max_length=_toxicity_tokenizer.model_max_length\n",
    "    )\n",
    "print(result)"
   ]
  }
 ],
 "metadata": {
  "kernelspec": {
   "display_name": "london-devops-VW7lFx7f-py3.11",
   "language": "python",
   "name": "python3"
  },
  "language_info": {
   "codemirror_mode": {
    "name": "ipython",
    "version": 3
   },
   "file_extension": ".py",
   "mimetype": "text/x-python",
   "name": "python",
   "nbconvert_exporter": "python",
   "pygments_lexer": "ipython3",
   "version": "3.11.4"
  },
  "orig_nbformat": 4
 },
 "nbformat": 4,
 "nbformat_minor": 2
}

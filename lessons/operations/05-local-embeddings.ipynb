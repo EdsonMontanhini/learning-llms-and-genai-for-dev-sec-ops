{
 "cells": [
  {
   "cell_type": "markdown",
   "metadata": {},
   "source": [
    "To run completely locally , you'd also need to run your embeddings locally.\n",
    "For this we will a model hosted on Huggingface (the github for models)."
   ]
  },
  {
   "cell_type": "code",
   "execution_count": 1,
   "metadata": {},
   "outputs": [
    {
     "name": "stdout",
     "output_type": "stream",
     "text": [
      "Requirement already satisfied: langchain in /Users/patrick.debois/Library/Caches/pypoetry/virtualenvs/london-devops-VW7lFx7f-py3.11/lib/python3.11/site-packages (0.0.279)\n",
      "Requirement already satisfied: python-dotenv in /Users/patrick.debois/Library/Caches/pypoetry/virtualenvs/london-devops-VW7lFx7f-py3.11/lib/python3.11/site-packages (1.0.0)\n",
      "Requirement already satisfied: PyYAML>=5.3 in /Users/patrick.debois/Library/Caches/pypoetry/virtualenvs/london-devops-VW7lFx7f-py3.11/lib/python3.11/site-packages (from langchain) (6.0.1)\n",
      "Requirement already satisfied: SQLAlchemy<3,>=1.4 in /Users/patrick.debois/Library/Caches/pypoetry/virtualenvs/london-devops-VW7lFx7f-py3.11/lib/python3.11/site-packages (from langchain) (2.0.20)\n",
      "Requirement already satisfied: aiohttp<4.0.0,>=3.8.3 in /Users/patrick.debois/Library/Caches/pypoetry/virtualenvs/london-devops-VW7lFx7f-py3.11/lib/python3.11/site-packages (from langchain) (3.8.5)\n",
      "Requirement already satisfied: dataclasses-json<0.6.0,>=0.5.7 in /Users/patrick.debois/Library/Caches/pypoetry/virtualenvs/london-devops-VW7lFx7f-py3.11/lib/python3.11/site-packages (from langchain) (0.5.14)\n",
      "Requirement already satisfied: langsmith<0.1.0,>=0.0.21 in /Users/patrick.debois/Library/Caches/pypoetry/virtualenvs/london-devops-VW7lFx7f-py3.11/lib/python3.11/site-packages (from langchain) (0.0.32)\n",
      "Requirement already satisfied: numexpr<3.0.0,>=2.8.4 in /Users/patrick.debois/Library/Caches/pypoetry/virtualenvs/london-devops-VW7lFx7f-py3.11/lib/python3.11/site-packages (from langchain) (2.8.5)\n",
      "Requirement already satisfied: numpy<2,>=1 in /Users/patrick.debois/Library/Caches/pypoetry/virtualenvs/london-devops-VW7lFx7f-py3.11/lib/python3.11/site-packages (from langchain) (1.25.2)\n",
      "Requirement already satisfied: pydantic<3,>=1 in /Users/patrick.debois/Library/Caches/pypoetry/virtualenvs/london-devops-VW7lFx7f-py3.11/lib/python3.11/site-packages (from langchain) (2.3.0)\n",
      "Requirement already satisfied: requests<3,>=2 in /Users/patrick.debois/Library/Caches/pypoetry/virtualenvs/london-devops-VW7lFx7f-py3.11/lib/python3.11/site-packages (from langchain) (2.31.0)\n",
      "Requirement already satisfied: tenacity<9.0.0,>=8.1.0 in /Users/patrick.debois/Library/Caches/pypoetry/virtualenvs/london-devops-VW7lFx7f-py3.11/lib/python3.11/site-packages (from langchain) (8.2.3)\n",
      "Requirement already satisfied: attrs>=17.3.0 in /Users/patrick.debois/Library/Caches/pypoetry/virtualenvs/london-devops-VW7lFx7f-py3.11/lib/python3.11/site-packages (from aiohttp<4.0.0,>=3.8.3->langchain) (23.1.0)\n",
      "Requirement already satisfied: charset-normalizer<4.0,>=2.0 in /Users/patrick.debois/Library/Caches/pypoetry/virtualenvs/london-devops-VW7lFx7f-py3.11/lib/python3.11/site-packages (from aiohttp<4.0.0,>=3.8.3->langchain) (3.2.0)\n",
      "Requirement already satisfied: multidict<7.0,>=4.5 in /Users/patrick.debois/Library/Caches/pypoetry/virtualenvs/london-devops-VW7lFx7f-py3.11/lib/python3.11/site-packages (from aiohttp<4.0.0,>=3.8.3->langchain) (6.0.4)\n",
      "Requirement already satisfied: async-timeout<5.0,>=4.0.0a3 in /Users/patrick.debois/Library/Caches/pypoetry/virtualenvs/london-devops-VW7lFx7f-py3.11/lib/python3.11/site-packages (from aiohttp<4.0.0,>=3.8.3->langchain) (4.0.3)\n",
      "Requirement already satisfied: yarl<2.0,>=1.0 in /Users/patrick.debois/Library/Caches/pypoetry/virtualenvs/london-devops-VW7lFx7f-py3.11/lib/python3.11/site-packages (from aiohttp<4.0.0,>=3.8.3->langchain) (1.9.2)\n",
      "Requirement already satisfied: frozenlist>=1.1.1 in /Users/patrick.debois/Library/Caches/pypoetry/virtualenvs/london-devops-VW7lFx7f-py3.11/lib/python3.11/site-packages (from aiohttp<4.0.0,>=3.8.3->langchain) (1.4.0)\n",
      "Requirement already satisfied: aiosignal>=1.1.2 in /Users/patrick.debois/Library/Caches/pypoetry/virtualenvs/london-devops-VW7lFx7f-py3.11/lib/python3.11/site-packages (from aiohttp<4.0.0,>=3.8.3->langchain) (1.3.1)\n",
      "Requirement already satisfied: marshmallow<4.0.0,>=3.18.0 in /Users/patrick.debois/Library/Caches/pypoetry/virtualenvs/london-devops-VW7lFx7f-py3.11/lib/python3.11/site-packages (from dataclasses-json<0.6.0,>=0.5.7->langchain) (3.20.1)\n",
      "Requirement already satisfied: typing-inspect<1,>=0.4.0 in /Users/patrick.debois/Library/Caches/pypoetry/virtualenvs/london-devops-VW7lFx7f-py3.11/lib/python3.11/site-packages (from dataclasses-json<0.6.0,>=0.5.7->langchain) (0.9.0)\n",
      "Requirement already satisfied: annotated-types>=0.4.0 in /Users/patrick.debois/Library/Caches/pypoetry/virtualenvs/london-devops-VW7lFx7f-py3.11/lib/python3.11/site-packages (from pydantic<3,>=1->langchain) (0.5.0)\n",
      "Requirement already satisfied: pydantic-core==2.6.3 in /Users/patrick.debois/Library/Caches/pypoetry/virtualenvs/london-devops-VW7lFx7f-py3.11/lib/python3.11/site-packages (from pydantic<3,>=1->langchain) (2.6.3)\n",
      "Requirement already satisfied: typing-extensions>=4.6.1 in /Users/patrick.debois/Library/Caches/pypoetry/virtualenvs/london-devops-VW7lFx7f-py3.11/lib/python3.11/site-packages (from pydantic<3,>=1->langchain) (4.7.1)\n",
      "Requirement already satisfied: idna<4,>=2.5 in /Users/patrick.debois/Library/Caches/pypoetry/virtualenvs/london-devops-VW7lFx7f-py3.11/lib/python3.11/site-packages (from requests<3,>=2->langchain) (3.4)\n",
      "Requirement already satisfied: urllib3<3,>=1.21.1 in /Users/patrick.debois/Library/Caches/pypoetry/virtualenvs/london-devops-VW7lFx7f-py3.11/lib/python3.11/site-packages (from requests<3,>=2->langchain) (2.0.4)\n",
      "Requirement already satisfied: certifi>=2017.4.17 in /Users/patrick.debois/Library/Caches/pypoetry/virtualenvs/london-devops-VW7lFx7f-py3.11/lib/python3.11/site-packages (from requests<3,>=2->langchain) (2023.7.22)\n",
      "Requirement already satisfied: packaging>=17.0 in /Users/patrick.debois/Library/Caches/pypoetry/virtualenvs/london-devops-VW7lFx7f-py3.11/lib/python3.11/site-packages (from marshmallow<4.0.0,>=3.18.0->dataclasses-json<0.6.0,>=0.5.7->langchain) (23.1)\n",
      "Requirement already satisfied: mypy-extensions>=0.3.0 in /Users/patrick.debois/Library/Caches/pypoetry/virtualenvs/london-devops-VW7lFx7f-py3.11/lib/python3.11/site-packages (from typing-inspect<1,>=0.4.0->dataclasses-json<0.6.0,>=0.5.7->langchain) (1.0.0)\n",
      "Note: you may need to restart the kernel to use updated packages.\n"
     ]
    }
   ],
   "source": [
    "%pip install langchain "
   ]
  },
  {
   "cell_type": "code",
   "execution_count": 3,
   "metadata": {},
   "outputs": [
    {
     "name": "stdout",
     "output_type": "stream",
     "text": [
      "Collecting sentence_transformers\n",
      "  Using cached sentence_transformers-2.2.2-py3-none-any.whl\n",
      "Collecting transformers<5.0.0,>=4.6.0 (from sentence_transformers)\n",
      "  Obtaining dependency information for transformers<5.0.0,>=4.6.0 from https://files.pythonhosted.org/packages/83/8d/f65f8138365462ace54458a9e164f4b28ce1141361970190eef36bdef986/transformers-4.32.1-py3-none-any.whl.metadata\n",
      "  Downloading transformers-4.32.1-py3-none-any.whl.metadata (118 kB)\n",
      "\u001b[2K     \u001b[90m━━━━━━━━━━━━━━━━━━━━━━━━━━━━━━━━━━━━━━━\u001b[0m \u001b[32m118.5/118.5 kB\u001b[0m \u001b[31m1.1 MB/s\u001b[0m eta \u001b[36m0:00:00\u001b[0ma \u001b[36m0:00:01\u001b[0m\n",
      "\u001b[?25hRequirement already satisfied: tqdm in /Users/patrick.debois/Library/Caches/pypoetry/virtualenvs/london-devops-VW7lFx7f-py3.11/lib/python3.11/site-packages (from sentence_transformers) (4.66.1)\n",
      "Collecting torch>=1.6.0 (from sentence_transformers)\n",
      "  Using cached torch-2.0.1-cp311-none-macosx_11_0_arm64.whl (55.8 MB)\n",
      "Collecting torchvision (from sentence_transformers)\n",
      "  Using cached torchvision-0.15.2-cp311-cp311-macosx_11_0_arm64.whl (1.4 MB)\n",
      "Requirement already satisfied: numpy in /Users/patrick.debois/Library/Caches/pypoetry/virtualenvs/london-devops-VW7lFx7f-py3.11/lib/python3.11/site-packages (from sentence_transformers) (1.25.2)\n",
      "Collecting scikit-learn (from sentence_transformers)\n",
      "  Obtaining dependency information for scikit-learn from https://files.pythonhosted.org/packages/18/36/60b58b6199547b7b46be03e05508d053162fbce146639bfc65609fa49b23/scikit_learn-1.3.0-cp311-cp311-macosx_12_0_arm64.whl.metadata\n",
      "  Downloading scikit_learn-1.3.0-cp311-cp311-macosx_12_0_arm64.whl.metadata (11 kB)\n",
      "Collecting scipy (from sentence_transformers)\n",
      "  Obtaining dependency information for scipy from https://files.pythonhosted.org/packages/2a/12/62804d63514ecd9d2ecb73497c3e38094f9139bc60b0353b653253d106bb/scipy-1.11.2-cp311-cp311-macosx_12_0_arm64.whl.metadata\n",
      "  Downloading scipy-1.11.2-cp311-cp311-macosx_12_0_arm64.whl.metadata (146 kB)\n",
      "\u001b[2K     \u001b[90m━━━━━━━━━━━━━━━━━━━━━━━━━━━━━━━━━━━━━━━\u001b[0m \u001b[32m146.5/146.5 kB\u001b[0m \u001b[31m1.9 MB/s\u001b[0m eta \u001b[36m0:00:00\u001b[0m00:01\u001b[0m00:01\u001b[0m\n",
      "\u001b[?25hRequirement already satisfied: nltk in /Users/patrick.debois/Library/Caches/pypoetry/virtualenvs/london-devops-VW7lFx7f-py3.11/lib/python3.11/site-packages (from sentence_transformers) (3.8.1)\n",
      "Collecting sentencepiece (from sentence_transformers)\n",
      "  Using cached sentencepiece-0.1.99-cp311-cp311-macosx_11_0_arm64.whl (1.2 MB)\n",
      "Collecting huggingface-hub>=0.4.0 (from sentence_transformers)\n",
      "  Obtaining dependency information for huggingface-hub>=0.4.0 from https://files.pythonhosted.org/packages/7f/c4/adcbe9a696c135578cabcbdd7331332daad4d49b7c43688bc2d36b3a47d2/huggingface_hub-0.16.4-py3-none-any.whl.metadata\n",
      "  Using cached huggingface_hub-0.16.4-py3-none-any.whl.metadata (12 kB)\n",
      "Collecting filelock (from huggingface-hub>=0.4.0->sentence_transformers)\n",
      "  Obtaining dependency information for filelock from https://files.pythonhosted.org/packages/52/90/45223db4e1df30ff14e8aebf9a1bf0222da2e7b49e53692c968f36817812/filelock-3.12.3-py3-none-any.whl.metadata\n",
      "  Downloading filelock-3.12.3-py3-none-any.whl.metadata (2.7 kB)\n",
      "Collecting fsspec (from huggingface-hub>=0.4.0->sentence_transformers)\n",
      "  Obtaining dependency information for fsspec from https://files.pythonhosted.org/packages/e3/bd/4c0a4619494188a9db5d77e2100ab7d544a42e76b2447869d8e124e981d8/fsspec-2023.6.0-py3-none-any.whl.metadata\n",
      "  Using cached fsspec-2023.6.0-py3-none-any.whl.metadata (6.7 kB)\n",
      "Requirement already satisfied: requests in /Users/patrick.debois/Library/Caches/pypoetry/virtualenvs/london-devops-VW7lFx7f-py3.11/lib/python3.11/site-packages (from huggingface-hub>=0.4.0->sentence_transformers) (2.31.0)\n",
      "Requirement already satisfied: pyyaml>=5.1 in /Users/patrick.debois/Library/Caches/pypoetry/virtualenvs/london-devops-VW7lFx7f-py3.11/lib/python3.11/site-packages (from huggingface-hub>=0.4.0->sentence_transformers) (6.0.1)\n",
      "Requirement already satisfied: typing-extensions>=3.7.4.3 in /Users/patrick.debois/Library/Caches/pypoetry/virtualenvs/london-devops-VW7lFx7f-py3.11/lib/python3.11/site-packages (from huggingface-hub>=0.4.0->sentence_transformers) (4.7.1)\n",
      "Requirement already satisfied: packaging>=20.9 in /Users/patrick.debois/Library/Caches/pypoetry/virtualenvs/london-devops-VW7lFx7f-py3.11/lib/python3.11/site-packages (from huggingface-hub>=0.4.0->sentence_transformers) (23.1)\n",
      "Collecting sympy (from torch>=1.6.0->sentence_transformers)\n",
      "  Using cached sympy-1.12-py3-none-any.whl (5.7 MB)\n",
      "Collecting networkx (from torch>=1.6.0->sentence_transformers)\n",
      "  Using cached networkx-3.1-py3-none-any.whl (2.1 MB)\n",
      "Collecting jinja2 (from torch>=1.6.0->sentence_transformers)\n",
      "  Using cached Jinja2-3.1.2-py3-none-any.whl (133 kB)\n",
      "Requirement already satisfied: regex!=2019.12.17 in /Users/patrick.debois/Library/Caches/pypoetry/virtualenvs/london-devops-VW7lFx7f-py3.11/lib/python3.11/site-packages (from transformers<5.0.0,>=4.6.0->sentence_transformers) (2023.8.8)\n",
      "Collecting tokenizers!=0.11.3,<0.14,>=0.11.1 (from transformers<5.0.0,>=4.6.0->sentence_transformers)\n",
      "  Using cached tokenizers-0.13.3-cp311-cp311-macosx_12_0_arm64.whl (3.9 MB)\n",
      "Collecting safetensors>=0.3.1 (from transformers<5.0.0,>=4.6.0->sentence_transformers)\n",
      "  Obtaining dependency information for safetensors>=0.3.1 from https://files.pythonhosted.org/packages/34/0e/12d55d5dd648b8f7ea7216c5b7cef9703b4dbd3b2a042872c711d5e98551/safetensors-0.3.3-cp311-cp311-macosx_13_0_arm64.whl.metadata\n",
      "  Using cached safetensors-0.3.3-cp311-cp311-macosx_13_0_arm64.whl.metadata (4.7 kB)\n",
      "Requirement already satisfied: click in /Users/patrick.debois/Library/Caches/pypoetry/virtualenvs/london-devops-VW7lFx7f-py3.11/lib/python3.11/site-packages (from nltk->sentence_transformers) (8.1.7)\n",
      "Requirement already satisfied: joblib in /Users/patrick.debois/Library/Caches/pypoetry/virtualenvs/london-devops-VW7lFx7f-py3.11/lib/python3.11/site-packages (from nltk->sentence_transformers) (1.3.2)\n",
      "Collecting threadpoolctl>=2.0.0 (from scikit-learn->sentence_transformers)\n",
      "  Obtaining dependency information for threadpoolctl>=2.0.0 from https://files.pythonhosted.org/packages/81/12/fd4dea011af9d69e1cad05c75f3f7202cdcbeac9b712eea58ca779a72865/threadpoolctl-3.2.0-py3-none-any.whl.metadata\n",
      "  Downloading threadpoolctl-3.2.0-py3-none-any.whl.metadata (10.0 kB)\n",
      "Collecting pillow!=8.3.*,>=5.3.0 (from torchvision->sentence_transformers)\n",
      "  Obtaining dependency information for pillow!=8.3.*,>=5.3.0 from https://files.pythonhosted.org/packages/b7/ad/71982d18fd28ed1f93c31b8648f980ebdbdbcf7d8c9c9b4af59290914ce9/Pillow-10.0.0-cp311-cp311-macosx_11_0_arm64.whl.metadata\n",
      "  Downloading Pillow-10.0.0-cp311-cp311-macosx_11_0_arm64.whl.metadata (9.5 kB)\n",
      "Collecting MarkupSafe>=2.0 (from jinja2->torch>=1.6.0->sentence_transformers)\n",
      "  Obtaining dependency information for MarkupSafe>=2.0 from https://files.pythonhosted.org/packages/fe/09/c31503cb8150cf688c1534a7135cc39bb9092f8e0e6369ec73494d16ee0e/MarkupSafe-2.1.3-cp311-cp311-macosx_10_9_universal2.whl.metadata\n",
      "  Downloading MarkupSafe-2.1.3-cp311-cp311-macosx_10_9_universal2.whl.metadata (3.0 kB)\n",
      "Requirement already satisfied: charset-normalizer<4,>=2 in /Users/patrick.debois/Library/Caches/pypoetry/virtualenvs/london-devops-VW7lFx7f-py3.11/lib/python3.11/site-packages (from requests->huggingface-hub>=0.4.0->sentence_transformers) (3.2.0)\n",
      "Requirement already satisfied: idna<4,>=2.5 in /Users/patrick.debois/Library/Caches/pypoetry/virtualenvs/london-devops-VW7lFx7f-py3.11/lib/python3.11/site-packages (from requests->huggingface-hub>=0.4.0->sentence_transformers) (3.4)\n",
      "Requirement already satisfied: urllib3<3,>=1.21.1 in /Users/patrick.debois/Library/Caches/pypoetry/virtualenvs/london-devops-VW7lFx7f-py3.11/lib/python3.11/site-packages (from requests->huggingface-hub>=0.4.0->sentence_transformers) (2.0.4)\n",
      "Requirement already satisfied: certifi>=2017.4.17 in /Users/patrick.debois/Library/Caches/pypoetry/virtualenvs/london-devops-VW7lFx7f-py3.11/lib/python3.11/site-packages (from requests->huggingface-hub>=0.4.0->sentence_transformers) (2023.7.22)\n",
      "Collecting mpmath>=0.19 (from sympy->torch>=1.6.0->sentence_transformers)\n",
      "  Using cached mpmath-1.3.0-py3-none-any.whl (536 kB)\n",
      "Using cached huggingface_hub-0.16.4-py3-none-any.whl (268 kB)\n",
      "Downloading transformers-4.32.1-py3-none-any.whl (7.5 MB)\n",
      "\u001b[2K   \u001b[90m━━━━━━━━━━━━━━━━━━━━━━━━━━━━━━━━━━━━━━━━\u001b[0m \u001b[32m7.5/7.5 MB\u001b[0m \u001b[31m2.8 MB/s\u001b[0m eta \u001b[36m0:00:00\u001b[0m00:01\u001b[0m00:01\u001b[0m\n",
      "\u001b[?25hDownloading scikit_learn-1.3.0-cp311-cp311-macosx_12_0_arm64.whl (9.4 MB)\n",
      "\u001b[2K   \u001b[90m━━━━━━━━━━━━━━━━━━━━━━━━━━━━━━━━━━━━━━━━\u001b[0m \u001b[32m9.4/9.4 MB\u001b[0m \u001b[31m3.8 MB/s\u001b[0m eta \u001b[36m0:00:00\u001b[0m00:01\u001b[0m00:01\u001b[0m\n",
      "\u001b[?25hDownloading scipy-1.11.2-cp311-cp311-macosx_12_0_arm64.whl (29.6 MB)\n",
      "\u001b[2K   \u001b[90m━━━━━━━━━━━━━━━━━━━━━━━━━━━━━━━━━━━━━━━━\u001b[0m \u001b[32m29.6/29.6 MB\u001b[0m \u001b[31m4.4 MB/s\u001b[0m eta \u001b[36m0:00:00\u001b[0m00:01\u001b[0m00:01\u001b[0m\n",
      "\u001b[?25hDownloading Pillow-10.0.0-cp311-cp311-macosx_11_0_arm64.whl (3.1 MB)\n",
      "\u001b[2K   \u001b[90m━━━━━━━━━━━━━━━━━━━━━━━━━━━━━━━━━━━━━━━━\u001b[0m \u001b[32m3.1/3.1 MB\u001b[0m \u001b[31m3.6 MB/s\u001b[0m eta \u001b[36m0:00:00\u001b[0ma \u001b[36m0:00:01\u001b[0m\n",
      "\u001b[?25hUsing cached safetensors-0.3.3-cp311-cp311-macosx_13_0_arm64.whl (406 kB)\n",
      "Using cached threadpoolctl-3.2.0-py3-none-any.whl (15 kB)\n",
      "Downloading filelock-3.12.3-py3-none-any.whl (11 kB)\n",
      "Using cached fsspec-2023.6.0-py3-none-any.whl (163 kB)\n",
      "Using cached MarkupSafe-2.1.3-cp311-cp311-macosx_10_9_universal2.whl (17 kB)\n",
      "Installing collected packages: tokenizers, sentencepiece, safetensors, mpmath, threadpoolctl, sympy, scipy, pillow, networkx, MarkupSafe, fsspec, filelock, scikit-learn, jinja2, huggingface-hub, transformers, torch, torchvision, sentence_transformers\n",
      "Successfully installed MarkupSafe-2.1.3 filelock-3.12.3 fsspec-2023.6.0 huggingface-hub-0.16.4 jinja2-3.1.2 mpmath-1.3.0 networkx-3.1 pillow-10.0.0 safetensors-0.3.3 scikit-learn-1.3.0 scipy-1.11.2 sentence_transformers-2.2.2 sentencepiece-0.1.99 sympy-1.12 threadpoolctl-3.2.0 tokenizers-0.13.3 torch-2.0.1 torchvision-0.15.2 transformers-4.32.1\n",
      "Note: you may need to restart the kernel to use updated packages.\n"
     ]
    }
   ],
   "source": [
    "%pip install sentence_transformers"
   ]
  },
  {
   "cell_type": "code",
   "execution_count": 1,
   "metadata": {},
   "outputs": [
    {
     "name": "stderr",
     "output_type": "stream",
     "text": [
      "/Users/patrick.debois/Library/Caches/pypoetry/virtualenvs/london-devops-VW7lFx7f-py3.11/lib/python3.11/site-packages/tqdm/auto.py:21: TqdmWarning: IProgress not found. Please update jupyter and ipywidgets. See https://ipywidgets.readthedocs.io/en/stable/user_install.html\n",
      "  from .autonotebook import tqdm as notebook_tqdm\n"
     ]
    },
    {
     "name": "stdout",
     "output_type": "stream",
     "text": [
      "5 384\n",
      "[-0.09151122719049454, 0.025147827342152596, 0.0020471704192459583, 0.00518109742552042, -0.015277189202606678, -0.05271569639444351, 0.016557440161705017, 0.04239152744412422, -0.029215741902589798, 0.0068252175115048885, -0.02768431045114994, 0.007252801675349474, -0.010559268295764923, -0.04191438481211662, 0.032309044152498245, 0.03700302541255951, -0.0531524233520031, -0.009931851178407669, -0.10471194982528687, -0.039068467915058136, 0.03552801534533501, 0.075900137424469, -0.10407798737287521, 0.044606149196624756, -0.026902200654149055, -0.031990036368370056, -0.006866891868412495, 0.06416887789964676, -0.0711832046508789, -0.017583955079317093, 0.012554299086332321, 0.12845948338508606, -0.02276209369301796, 0.05372175574302673, 0.029169807210564613, 0.04887783154845238, -0.04694389924407005, -0.07912507653236389, 0.04516484588384628, 0.02378927543759346, -0.01188869122415781, 0.011806259863078594, -0.01734262891113758, 0.039318062365055084, 0.05355006456375122, -0.07429273426532745, 0.02502715028822422, -0.0875551849603653, 0.027243472635746002, 0.07727701961994171, -0.04783991724252701, -0.005763519089668989, -0.05466722697019577, -0.05343826860189438, 0.08600784093141556, 0.007336790673434734, 0.009187708608806133, -0.09906971454620361, 0.05315801873803139, -0.0646209567785263, -0.09006994217634201, 0.044651422649621964, -0.11563222110271454, -0.02169014699757099, 0.01754819042980671, -0.03665585815906525, -0.03430076315999031, -0.05340951681137085, -0.05064154788851738, -0.08569829910993576, -0.009529468603432178, 0.025036396458745003, 0.032452672719955444, 0.053449880331754684, -0.013131223618984222, -0.08975657820701599, 0.05662131309509277, 0.0019699002150446177, 0.030657384544610977, 0.006431672256439924, 0.07051170617341995, -0.048392582684755325, 0.015184366144239902, -0.027121225371956825, -0.009402966126799583, -0.05028790235519409, 0.05843998119235039, 0.002062049927189946, -0.02801419422030449, -0.03393225744366646, -0.11036340892314911, 0.07281813770532608, -0.027439646422863007, 0.0014600134454667568, -0.0528668649494648, -0.10202644765377045, 0.09397844225168228, 0.045552998781204224, -0.12457718700170517, 0.15514768660068512, 0.03557361289858818, 0.03785554692149162, 0.025922581553459167, 0.0426069013774395, -0.05040358006954193, 0.06678258627653122, -0.05466306954622269, 0.08857455849647522, -0.02877751737833023, -0.01159896980971098, 0.023446768522262573, -0.012094729579985142, 0.041506603360176086, 0.04544727876782417, 0.08052331209182739, 0.05635220184922218, 0.04778023064136505, 0.030067412182688713, 0.13186825811862946, -0.06568578630685806, 0.004145554732531309, -0.049214355647563934, -0.019922705367207527, -0.028347020968794823, 0.011700747534632683, -0.024010928347706795, -0.032602421939373016, -1.991269430535708e-33, 0.06229919195175171, -0.009872068651020527, 0.03463210538029671, 0.04109484329819679, -0.04445024952292442, -0.0246108528226614, -0.07881543040275574, -0.020856665447354317, 0.004964189603924751, 0.004908406175673008, -0.03617077320814133, -0.04287092015147209, -0.07707689702510834, 0.03973634913563728, -0.00028858426958322525, 0.07861850410699844, 0.01263473555445671, -0.01067607942968607, 0.03055870719254017, 0.031039513647556305, -0.03237270563840866, -0.014470438472926617, 0.027956876903772354, 0.027509288862347603, -0.013136152178049088, -0.007210087962448597, 0.07515060156583786, -0.12660901248455048, 0.05345906689763069, 0.08321763575077057, -0.015919333323836327, 0.018245574086904526, -0.016796641051769257, 0.03819083422422409, -0.06201844662427902, -0.03644629567861557, -0.011948084458708763, -0.04613079875707626, -0.04972514882683754, 0.05344924330711365, 0.023402797058224678, 0.005951445084065199, 0.06029916927218437, -0.03883710876107216, 0.0117355240508914, -0.0005572520894929767, 0.0797986388206482, 0.031749870628118515, 0.07367024570703506, -0.00535844499245286, -0.11065533012151718, -0.007001195102930069, -0.04918627440929413, 0.023270219564437866, -0.06374961137771606, -0.012503107078373432, 0.012850231491029263, -0.028148822486400604, 0.061736810952425, 0.026269499212503433, 0.07686816900968552, 0.09612714499235153, -0.05344950407743454, -0.05697273463010788, -0.09623769670724869, -0.008492802269756794, 0.06619136780500412, -0.014823499135673046, 0.05344092845916748, 0.0024222165811806917, 0.0054548513144254684, 0.008450132794678211, 0.004888296127319336, 0.0025906083174049854, 0.0009861226426437497, 0.03382910043001175, 0.016981355845928192, -0.011704893782734871, -0.005036917980760336, -0.04812723025679588, -0.0020702462643384933, -0.006697122007608414, -0.07066404819488525, -0.02210783027112484, 0.009296349249780178, -0.07361140102148056, -0.0029481095261871815, -0.0992271825671196, -0.14645721018314362, -0.008813285268843174, 0.016882970929145813, 0.056122761219739914, 0.09880466759204865, -0.03989921882748604, -0.009538141079246998, 1.0215246110027303e-33, 0.1457991898059845, 0.009960517287254333, -0.024335909634828568, -0.025420650839805603, 0.03425244614481926, -0.0026528441812843084, 0.004149403888732195, 0.05901944637298584, -0.06796845048666, 0.028607646003365517, 0.004740034230053425, 0.015115818940103054, 0.055048052221536636, -0.019880684092640877, 0.04234768822789192, 0.08743782341480255, 0.026790698990225792, 0.04032456874847412, -0.038884054869413376, 0.02790364809334278, -0.08030311018228531, -0.03400101140141487, -0.0060109528712928295, -0.062159955501556396, 0.048753075301647186, -0.0024327265564352274, 0.07537815719842911, 0.05105167254805565, -0.10411731153726578, -0.011104858480393887, 0.0029032891616225243, 0.05738288164138794, -0.027404939755797386, -0.005330265499651432, 0.04306590557098389, 0.00913509912788868, 0.011324848048388958, -0.03752730041742325, 0.01656290329992771, -0.037385668605566025, -0.022031094878911972, 0.001476795761846006, 0.007138993125408888, 0.06618745625019073, -0.04125576093792915, -0.005603982601314783, 0.05445307865738869, -0.025301003828644753, -0.04718060791492462, 0.015728138387203217, -0.08216186612844467, -0.0664377361536026, 0.045373667031526566, 0.007873931899666786, -0.03452311456203461, 0.09003123641014099, 0.06255932152271271, 0.019906867295503616, 0.08142147958278656, -0.012106375768780708, 0.03163391724228859, 0.05527070164680481, 0.022233514115214348, 0.11265020817518234, 0.028902359306812286, 0.03601832315325737, -0.05632762238383293, -0.059204742312431335, -0.03194601088762283, -0.01885826699435711, 0.034311920404434204, -0.020330337807536125, 0.07562775164842606, -0.008240435272455215, 0.009969950653612614, -0.005974696017801762, 0.057787276804447174, 0.05027879402041435, 0.015793362632393837, 0.03539195656776428, 0.014925445429980755, -0.008465555496513844, 0.028696320950984955, 0.025339124724268913, 0.006211594212800264, 0.031197791919112206, 0.06677699834108353, 0.04585815966129303, 0.01416768692433834, -0.06819611042737961, 0.033859990537166595, 0.06280353665351868, 0.01752827689051628, 0.014060734771192074, 0.03421975299715996, -1.7425243470370333e-08, 0.02590901404619217, -0.001517059630714357, 0.1371607780456543, 0.04528243467211723, 0.04866843670606613, 0.04849402606487274, -0.02631823532283306, -0.05913406237959862, -0.04150426760315895, -0.012950258329510689, 0.04486392065882683, 0.060181569308042526, -0.08090687543153763, -0.022989023476839066, 0.07353039085865021, 0.008819214068353176, -0.0041319262236356735, 0.06105375289916992, -0.05856005847454071, -0.07941026985645294, 0.006867908872663975, 0.07912313938140869, -0.004490471910685301, -0.07611894607543945, 0.022105367854237556, -0.024886388331651688, -0.013001596555113792, -0.024047650396823883, -0.06338226050138474, -0.022534076124429703, -0.005546028725802898, 0.1357385665178299, -0.0318143405020237, 0.004699915647506714, -0.016835691407322884, -0.004079706966876984, -0.048442352563142776, -0.0060697635635733604, 0.05689244344830513, -0.09979328513145447, -0.057511523365974426, -0.10030480474233627, -0.00937324482947588, -0.06461714208126068, -0.008519640192389488, 0.04054855927824974, 0.019014935940504074, -0.04364652559161186, 0.022501710802316666, -0.1101243793964386, -0.011613727547228336, 0.002382633276283741, 0.06422428786754608, 0.05645536631345749, 0.05996239557862282, 0.05353109538555145, 0.031024081632494926, -0.0038781245239079, -0.06688214093446732, 0.008500984869897366, 0.11071612685918808, 0.027430662885308266, 0.03734198957681656, 0.03842875733971596]\n"
     ]
    }
   ],
   "source": [
    "#from langchain.embeddings import OpenAIEmbeddings\n",
    "from langchain.embeddings import SentenceTransformerEmbeddings\n",
    "\n",
    "# So instead of using OpenAIEmbeddings, we run a local model\n",
    "# embeddings_model = OpenAIEmbeddings()\n",
    "embeddings_model = SentenceTransformerEmbeddings(model_name=\"all-MiniLM-L6-v2\")\n",
    "\n",
    "embeddings = embeddings_model.embed_documents(\n",
    "    [\n",
    "        \"Hi there!\",\n",
    "        \"Oh, hello!\",\n",
    "        \"What's your name?\",\n",
    "        \"My friends call me World\",\n",
    "        \"Hello World!\",\n",
    "    ]\n",
    ")\n",
    "print(len(embeddings), len(embeddings[0]))\n",
    "print(embeddings[0])"
   ]
  }
 ],
 "metadata": {
  "kernelspec": {
   "display_name": "london-devops-VW7lFx7f-py3.11",
   "language": "python",
   "name": "python3"
  },
  "language_info": {
   "codemirror_mode": {
    "name": "ipython",
    "version": 3
   },
   "file_extension": ".py",
   "mimetype": "text/x-python",
   "name": "python",
   "nbconvert_exporter": "python",
   "pygments_lexer": "ipython3",
   "version": "3.11.4"
  },
  "orig_nbformat": 4
 },
 "nbformat": 4,
 "nbformat_minor": 2
}

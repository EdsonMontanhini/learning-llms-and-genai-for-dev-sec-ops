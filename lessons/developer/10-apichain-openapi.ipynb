{
 "cells": [
  {
   "cell_type": "markdown",
   "metadata": {},
   "source": [
    "Example from langchain:\n",
    "- https://python.langchain.com/docs/use_cases/apis"
   ]
  },
  {
   "cell_type": "code",
   "execution_count": 1,
   "metadata": {},
   "outputs": [
    {
     "name": "stdout",
     "output_type": "stream",
     "text": [
      "Requirement already satisfied: langchain in /Users/patrick.debois/Library/Caches/pypoetry/virtualenvs/london-devops-VW7lFx7f-py3.11/lib/python3.11/site-packages (0.0.279)\n",
      "Requirement already satisfied: openai in /Users/patrick.debois/Library/Caches/pypoetry/virtualenvs/london-devops-VW7lFx7f-py3.11/lib/python3.11/site-packages (0.28.0)\n",
      "Requirement already satisfied: PyYAML>=5.3 in /Users/patrick.debois/Library/Caches/pypoetry/virtualenvs/london-devops-VW7lFx7f-py3.11/lib/python3.11/site-packages (from langchain) (6.0.1)\n",
      "Requirement already satisfied: SQLAlchemy<3,>=1.4 in /Users/patrick.debois/Library/Caches/pypoetry/virtualenvs/london-devops-VW7lFx7f-py3.11/lib/python3.11/site-packages (from langchain) (2.0.20)\n",
      "Requirement already satisfied: aiohttp<4.0.0,>=3.8.3 in /Users/patrick.debois/Library/Caches/pypoetry/virtualenvs/london-devops-VW7lFx7f-py3.11/lib/python3.11/site-packages (from langchain) (3.8.5)\n",
      "Requirement already satisfied: dataclasses-json<0.6.0,>=0.5.7 in /Users/patrick.debois/Library/Caches/pypoetry/virtualenvs/london-devops-VW7lFx7f-py3.11/lib/python3.11/site-packages (from langchain) (0.5.14)\n",
      "Requirement already satisfied: langsmith<0.1.0,>=0.0.21 in /Users/patrick.debois/Library/Caches/pypoetry/virtualenvs/london-devops-VW7lFx7f-py3.11/lib/python3.11/site-packages (from langchain) (0.0.32)\n",
      "Requirement already satisfied: numexpr<3.0.0,>=2.8.4 in /Users/patrick.debois/Library/Caches/pypoetry/virtualenvs/london-devops-VW7lFx7f-py3.11/lib/python3.11/site-packages (from langchain) (2.8.5)\n",
      "Requirement already satisfied: numpy<2,>=1 in /Users/patrick.debois/Library/Caches/pypoetry/virtualenvs/london-devops-VW7lFx7f-py3.11/lib/python3.11/site-packages (from langchain) (1.25.2)\n",
      "Requirement already satisfied: pydantic<3,>=1 in /Users/patrick.debois/Library/Caches/pypoetry/virtualenvs/london-devops-VW7lFx7f-py3.11/lib/python3.11/site-packages (from langchain) (1.10.12)\n",
      "Requirement already satisfied: requests<3,>=2 in /Users/patrick.debois/Library/Caches/pypoetry/virtualenvs/london-devops-VW7lFx7f-py3.11/lib/python3.11/site-packages (from langchain) (2.31.0)\n",
      "Requirement already satisfied: tenacity<9.0.0,>=8.1.0 in /Users/patrick.debois/Library/Caches/pypoetry/virtualenvs/london-devops-VW7lFx7f-py3.11/lib/python3.11/site-packages (from langchain) (8.2.3)\n",
      "Requirement already satisfied: tqdm in /Users/patrick.debois/Library/Caches/pypoetry/virtualenvs/london-devops-VW7lFx7f-py3.11/lib/python3.11/site-packages (from openai) (4.66.1)\n",
      "Requirement already satisfied: attrs>=17.3.0 in /Users/patrick.debois/Library/Caches/pypoetry/virtualenvs/london-devops-VW7lFx7f-py3.11/lib/python3.11/site-packages (from aiohttp<4.0.0,>=3.8.3->langchain) (23.1.0)\n",
      "Requirement already satisfied: charset-normalizer<4.0,>=2.0 in /Users/patrick.debois/Library/Caches/pypoetry/virtualenvs/london-devops-VW7lFx7f-py3.11/lib/python3.11/site-packages (from aiohttp<4.0.0,>=3.8.3->langchain) (3.2.0)\n",
      "Requirement already satisfied: multidict<7.0,>=4.5 in /Users/patrick.debois/Library/Caches/pypoetry/virtualenvs/london-devops-VW7lFx7f-py3.11/lib/python3.11/site-packages (from aiohttp<4.0.0,>=3.8.3->langchain) (6.0.4)\n",
      "Requirement already satisfied: async-timeout<5.0,>=4.0.0a3 in /Users/patrick.debois/Library/Caches/pypoetry/virtualenvs/london-devops-VW7lFx7f-py3.11/lib/python3.11/site-packages (from aiohttp<4.0.0,>=3.8.3->langchain) (4.0.3)\n",
      "Requirement already satisfied: yarl<2.0,>=1.0 in /Users/patrick.debois/Library/Caches/pypoetry/virtualenvs/london-devops-VW7lFx7f-py3.11/lib/python3.11/site-packages (from aiohttp<4.0.0,>=3.8.3->langchain) (1.9.2)\n",
      "Requirement already satisfied: frozenlist>=1.1.1 in /Users/patrick.debois/Library/Caches/pypoetry/virtualenvs/london-devops-VW7lFx7f-py3.11/lib/python3.11/site-packages (from aiohttp<4.0.0,>=3.8.3->langchain) (1.4.0)\n",
      "Requirement already satisfied: aiosignal>=1.1.2 in /Users/patrick.debois/Library/Caches/pypoetry/virtualenvs/london-devops-VW7lFx7f-py3.11/lib/python3.11/site-packages (from aiohttp<4.0.0,>=3.8.3->langchain) (1.3.1)\n",
      "Requirement already satisfied: marshmallow<4.0.0,>=3.18.0 in /Users/patrick.debois/Library/Caches/pypoetry/virtualenvs/london-devops-VW7lFx7f-py3.11/lib/python3.11/site-packages (from dataclasses-json<0.6.0,>=0.5.7->langchain) (3.20.1)\n",
      "Requirement already satisfied: typing-inspect<1,>=0.4.0 in /Users/patrick.debois/Library/Caches/pypoetry/virtualenvs/london-devops-VW7lFx7f-py3.11/lib/python3.11/site-packages (from dataclasses-json<0.6.0,>=0.5.7->langchain) (0.9.0)\n",
      "Requirement already satisfied: typing-extensions>=4.2.0 in /Users/patrick.debois/Library/Caches/pypoetry/virtualenvs/london-devops-VW7lFx7f-py3.11/lib/python3.11/site-packages (from pydantic<3,>=1->langchain) (4.7.1)\n",
      "Requirement already satisfied: idna<4,>=2.5 in /Users/patrick.debois/Library/Caches/pypoetry/virtualenvs/london-devops-VW7lFx7f-py3.11/lib/python3.11/site-packages (from requests<3,>=2->langchain) (3.4)\n",
      "Requirement already satisfied: urllib3<3,>=1.21.1 in /Users/patrick.debois/Library/Caches/pypoetry/virtualenvs/london-devops-VW7lFx7f-py3.11/lib/python3.11/site-packages (from requests<3,>=2->langchain) (2.0.4)\n",
      "Requirement already satisfied: certifi>=2017.4.17 in /Users/patrick.debois/Library/Caches/pypoetry/virtualenvs/london-devops-VW7lFx7f-py3.11/lib/python3.11/site-packages (from requests<3,>=2->langchain) (2023.7.22)\n",
      "Requirement already satisfied: packaging>=17.0 in /Users/patrick.debois/Library/Caches/pypoetry/virtualenvs/london-devops-VW7lFx7f-py3.11/lib/python3.11/site-packages (from marshmallow<4.0.0,>=3.18.0->dataclasses-json<0.6.0,>=0.5.7->langchain) (23.1)\n",
      "Requirement already satisfied: mypy-extensions>=0.3.0 in /Users/patrick.debois/Library/Caches/pypoetry/virtualenvs/london-devops-VW7lFx7f-py3.11/lib/python3.11/site-packages (from typing-inspect<1,>=0.4.0->dataclasses-json<0.6.0,>=0.5.7->langchain) (1.0.0)\n",
      "Note: you may need to restart the kernel to use updated packages.\n"
     ]
    }
   ],
   "source": [
    "%pip install langchain openai"
   ]
  },
  {
   "cell_type": "code",
   "execution_count": 1,
   "metadata": {},
   "outputs": [
    {
     "name": "stdout",
     "output_type": "stream",
     "text": [
      "\n",
      "=============\n",
      "[llm][start] - prompts: You are given the below API Documentation:\n",
      "BASE URL: https://api.open-meteo.com/\n",
      "\n",
      "API Documentation\n",
      "The API endpoint /v1/forecast accepts a geographical coordinate, a list of weather variables and responds with a JSON hourly weather forecast for 7 days. Time always starts at 0:00 today and contains 168 hours. All URL parameters are listed below:\n",
      "\n",
      "Parameter\tFormat\tRequired\tDefault\tDescription\n",
      "latitude, longitude\tFloating point\tYes\t\tGeographical WGS84 coordinate of the location\n",
      "hourly\tString array\tNo\t\tA list of weather variables which should be returned. Values can be comma separated, or multiple &hourly= parameter in the URL can be used.\n",
      "daily\tString array\tNo\t\tA list of daily weather variable aggregations which should be returned. Values can be comma separated, or multiple &daily= parameter in the URL can be used. If daily weather variables are specified, parameter timezone is required.\n",
      "current_weather\tBool\tNo\tfalse\tInclude current weather conditions in the JSON output.\n",
      "temperature_unit\tString\tNo\tcelsius\tIf fahrenheit is set, all temperature values are converted to Fahrenheit.\n",
      "windspeed_unit\tString\tNo\tkmh\tOther wind speed speed units: ms, mph and kn\n",
      "precipitation_unit\tString\tNo\tmm\tOther precipitation amount units: inch\n",
      "timeformat\tString\tNo\tiso8601\tIf format unixtime is selected, all time values are returned in UNIX epoch time in seconds. Please note that all timestamp are in GMT+0! For daily values with unix timestamps, please apply utc_offset_seconds again to get the correct date.\n",
      "timezone\tString\tNo\tGMT\tIf timezone is set, all timestamps are returned as local-time and data is returned starting at 00:00 local-time. Any time zone name from the time zone database is supported. If auto is set as a time zone, the coordinates will be automatically resolved to the local time zone.\n",
      "past_days\tInteger (0-2)\tNo\t0\tIf past_days is set, yesterday or the day before yesterday data are also returned.\n",
      "start_date\n",
      "end_date\tString (yyyy-mm-dd)\tNo\t\tThe time interval to get weather data. A day must be specified as an ISO8601 date (e.g. 2022-06-30).\n",
      "models\tString array\tNo\tauto\tManually select one or more weather models. Per default, the best suitable weather models will be combined.\n",
      "\n",
      "Hourly Parameter Definition\n",
      "The parameter &hourly= accepts the following values. Most weather variables are given as an instantaneous value for the indicated hour. Some variables like precipitation are calculated from the preceding hour as an average or sum.\n",
      "\n",
      "Variable\tValid time\tUnit\tDescription\n",
      "temperature_2m\tInstant\t°C (°F)\tAir temperature at 2 meters above ground\n",
      "snowfall\tPreceding hour sum\tcm (inch)\tSnowfall amount of the preceding hour in centimeters. For the water equivalent in millimeter, divide by 7. E.g. 7 cm snow = 10 mm precipitation water equivalent\n",
      "rain\tPreceding hour sum\tmm (inch)\tRain from large scale weather systems of the preceding hour in millimeter\n",
      "showers\tPreceding hour sum\tmm (inch)\tShowers from convective precipitation in millimeters from the preceding hour\n",
      "weathercode\tInstant\tWMO code\tWeather condition as a numeric code. Follow WMO weather interpretation codes. See table below for details.\n",
      "snow_depth\tInstant\tmeters\tSnow depth on the ground\n",
      "freezinglevel_height\tInstant\tmeters\tAltitude above sea level of the 0°C level\n",
      "visibility\tInstant\tmeters\tViewing distance in meters. Influenced by low clouds, humidity and aerosols. Maximum visibility is approximately 24 km.\n",
      "Using this documentation, generate the full API url to call for answering the user question.\n",
      "You should build the API url in order to get a response that is as short as possible, while still getting the necessary information to answer the question. Pay attention to deliberately exclude any unnecessary pieces of data in the API call.\n",
      "\n",
      "Question:What is the weather like right now in London in degrees Celcius?\n",
      "API url:\n",
      "\n",
      "=============\n",
      "[llm][end] - generation https://api.open-meteo.com/v1/forecast?latitude=51.5074&longitude=0.1278&hourly=temperature_2m&current_weather=true&temperature_unit=celsius\n",
      "\n",
      "=============\n",
      "[llm][start] - prompts: You are given the below API Documentation:\n",
      "BASE URL: https://api.open-meteo.com/\n",
      "\n",
      "API Documentation\n",
      "The API endpoint /v1/forecast accepts a geographical coordinate, a list of weather variables and responds with a JSON hourly weather forecast for 7 days. Time always starts at 0:00 today and contains 168 hours. All URL parameters are listed below:\n",
      "\n",
      "Parameter\tFormat\tRequired\tDefault\tDescription\n",
      "latitude, longitude\tFloating point\tYes\t\tGeographical WGS84 coordinate of the location\n",
      "hourly\tString array\tNo\t\tA list of weather variables which should be returned. Values can be comma separated, or multiple &hourly= parameter in the URL can be used.\n",
      "daily\tString array\tNo\t\tA list of daily weather variable aggregations which should be returned. Values can be comma separated, or multiple &daily= parameter in the URL can be used. If daily weather variables are specified, parameter timezone is required.\n",
      "current_weather\tBool\tNo\tfalse\tInclude current weather conditions in the JSON output.\n",
      "temperature_unit\tString\tNo\tcelsius\tIf fahrenheit is set, all temperature values are converted to Fahrenheit.\n",
      "windspeed_unit\tString\tNo\tkmh\tOther wind speed speed units: ms, mph and kn\n",
      "precipitation_unit\tString\tNo\tmm\tOther precipitation amount units: inch\n",
      "timeformat\tString\tNo\tiso8601\tIf format unixtime is selected, all time values are returned in UNIX epoch time in seconds. Please note that all timestamp are in GMT+0! For daily values with unix timestamps, please apply utc_offset_seconds again to get the correct date.\n",
      "timezone\tString\tNo\tGMT\tIf timezone is set, all timestamps are returned as local-time and data is returned starting at 00:00 local-time. Any time zone name from the time zone database is supported. If auto is set as a time zone, the coordinates will be automatically resolved to the local time zone.\n",
      "past_days\tInteger (0-2)\tNo\t0\tIf past_days is set, yesterday or the day before yesterday data are also returned.\n",
      "start_date\n",
      "end_date\tString (yyyy-mm-dd)\tNo\t\tThe time interval to get weather data. A day must be specified as an ISO8601 date (e.g. 2022-06-30).\n",
      "models\tString array\tNo\tauto\tManually select one or more weather models. Per default, the best suitable weather models will be combined.\n",
      "\n",
      "Hourly Parameter Definition\n",
      "The parameter &hourly= accepts the following values. Most weather variables are given as an instantaneous value for the indicated hour. Some variables like precipitation are calculated from the preceding hour as an average or sum.\n",
      "\n",
      "Variable\tValid time\tUnit\tDescription\n",
      "temperature_2m\tInstant\t°C (°F)\tAir temperature at 2 meters above ground\n",
      "snowfall\tPreceding hour sum\tcm (inch)\tSnowfall amount of the preceding hour in centimeters. For the water equivalent in millimeter, divide by 7. E.g. 7 cm snow = 10 mm precipitation water equivalent\n",
      "rain\tPreceding hour sum\tmm (inch)\tRain from large scale weather systems of the preceding hour in millimeter\n",
      "showers\tPreceding hour sum\tmm (inch)\tShowers from convective precipitation in millimeters from the preceding hour\n",
      "weathercode\tInstant\tWMO code\tWeather condition as a numeric code. Follow WMO weather interpretation codes. See table below for details.\n",
      "snow_depth\tInstant\tmeters\tSnow depth on the ground\n",
      "freezinglevel_height\tInstant\tmeters\tAltitude above sea level of the 0°C level\n",
      "visibility\tInstant\tmeters\tViewing distance in meters. Influenced by low clouds, humidity and aerosols. Maximum visibility is approximately 24 km.\n",
      "Using this documentation, generate the full API url to call for answering the user question.\n",
      "You should build the API url in order to get a response that is as short as possible, while still getting the necessary information to answer the question. Pay attention to deliberately exclude any unnecessary pieces of data in the API call.\n",
      "\n",
      "Question:What is the weather like right now in London in degrees Celcius?\n",
      "API url: https://api.open-meteo.com/v1/forecast?latitude=51.5074&longitude=0.1278&hourly=temperature_2m&current_weather=true&temperature_unit=celsius\n",
      "\n",
      "Here is the response from the API:\n",
      "\n",
      "{\"latitude\":51.5,\"longitude\":0.119999886,\"generationtime_ms\":0.5259513854980469,\"utc_offset_seconds\":0,\"timezone\":\"GMT\",\"timezone_abbreviation\":\"GMT\",\"elevation\":3.0,\"current_weather\":{\"temperature\":22.8,\"windspeed\":12.5,\"winddirection\":108,\"weathercode\":3,\"is_day\":1,\"time\":\"2023-09-03T17:00\"},\"hourly_units\":{\"time\":\"iso8601\",\"temperature_2m\":\"°C\"},\"hourly\":{\"time\":[\"2023-09-03T00:00\",\"2023-09-03T01:00\",\"2023-09-03T02:00\",\"2023-09-03T03:00\",\"2023-09-03T04:00\",\"2023-09-03T05:00\",\"2023-09-03T06:00\",\"2023-09-03T07:00\",\"2023-09-03T08:00\",\"2023-09-03T09:00\",\"2023-09-03T10:00\",\"2023-09-03T11:00\",\"2023-09-03T12:00\",\"2023-09-03T13:00\",\"2023-09-03T14:00\",\"2023-09-03T15:00\",\"2023-09-03T16:00\",\"2023-09-03T17:00\",\"2023-09-03T18:00\",\"2023-09-03T19:00\",\"2023-09-03T20:00\",\"2023-09-03T21:00\",\"2023-09-03T22:00\",\"2023-09-03T23:00\",\"2023-09-04T00:00\",\"2023-09-04T01:00\",\"2023-09-04T02:00\",\"2023-09-04T03:00\",\"2023-09-04T04:00\",\"2023-09-04T05:00\",\"2023-09-04T06:00\",\"2023-09-04T07:00\",\"2023-09-04T08:00\",\"2023-09-04T09:00\",\"2023-09-04T10:00\",\"2023-09-04T11:00\",\"2023-09-04T12:00\",\"2023-09-04T13:00\",\"2023-09-04T14:00\",\"2023-09-04T15:00\",\"2023-09-04T16:00\",\"2023-09-04T17:00\",\"2023-09-04T18:00\",\"2023-09-04T19:00\",\"2023-09-04T20:00\",\"2023-09-04T21:00\",\"2023-09-04T22:00\",\"2023-09-04T23:00\",\"2023-09-05T00:00\",\"2023-09-05T01:00\",\"2023-09-05T02:00\",\"2023-09-05T03:00\",\"2023-09-05T04:00\",\"2023-09-05T05:00\",\"2023-09-05T06:00\",\"2023-09-05T07:00\",\"2023-09-05T08:00\",\"2023-09-05T09:00\",\"2023-09-05T10:00\",\"2023-09-05T11:00\",\"2023-09-05T12:00\",\"2023-09-05T13:00\",\"2023-09-05T14:00\",\"2023-09-05T15:00\",\"2023-09-05T16:00\",\"2023-09-05T17:00\",\"2023-09-05T18:00\",\"2023-09-05T19:00\",\"2023-09-05T20:00\",\"2023-09-05T21:00\",\"2023-09-05T22:00\",\"2023-09-05T23:00\",\"2023-09-06T00:00\",\"2023-09-06T01:00\",\"2023-09-06T02:00\",\"2023-09-06T03:00\",\"2023-09-06T04:00\",\"2023-09-06T05:00\",\"2023-09-06T06:00\",\"2023-09-06T07:00\",\"2023-09-06T08:00\",\"2023-09-06T09:00\",\"2023-09-06T10:00\",\"2023-09-06T11:00\",\"2023-09-06T12:00\",\"2023-09-06T13:00\",\"2023-09-06T14:00\",\"2023-09-06T15:00\",\"2023-09-06T16:00\",\"2023-09-06T17:00\",\"2023-09-06T18:00\",\"2023-09-06T19:00\",\"2023-09-06T20:00\",\"2023-09-06T21:00\",\"2023-09-06T22:00\",\"2023-09-06T23:00\",\"2023-09-07T00:00\",\"2023-09-07T01:00\",\"2023-09-07T02:00\",\"2023-09-07T03:00\",\"2023-09-07T04:00\",\"2023-09-07T05:00\",\"2023-09-07T06:00\",\"2023-09-07T07:00\",\"2023-09-07T08:00\",\"2023-09-07T09:00\",\"2023-09-07T10:00\",\"2023-09-07T11:00\",\"2023-09-07T12:00\",\"2023-09-07T13:00\",\"2023-09-07T14:00\",\"2023-09-07T15:00\",\"2023-09-07T16:00\",\"2023-09-07T17:00\",\"2023-09-07T18:00\",\"2023-09-07T19:00\",\"2023-09-07T20:00\",\"2023-09-07T21:00\",\"2023-09-07T22:00\",\"2023-09-07T23:00\",\"2023-09-08T00:00\",\"2023-09-08T01:00\",\"2023-09-08T02:00\",\"2023-09-08T03:00\",\"2023-09-08T04:00\",\"2023-09-08T05:00\",\"2023-09-08T06:00\",\"2023-09-08T07:00\",\"2023-09-08T08:00\",\"2023-09-08T09:00\",\"2023-09-08T10:00\",\"2023-09-08T11:00\",\"2023-09-08T12:00\",\"2023-09-08T13:00\",\"2023-09-08T14:00\",\"2023-09-08T15:00\",\"2023-09-08T16:00\",\"2023-09-08T17:00\",\"2023-09-08T18:00\",\"2023-09-08T19:00\",\"2023-09-08T20:00\",\"2023-09-08T21:00\",\"2023-09-08T22:00\",\"2023-09-08T23:00\",\"2023-09-09T00:00\",\"2023-09-09T01:00\",\"2023-09-09T02:00\",\"2023-09-09T03:00\",\"2023-09-09T04:00\",\"2023-09-09T05:00\",\"2023-09-09T06:00\",\"2023-09-09T07:00\",\"2023-09-09T08:00\",\"2023-09-09T09:00\",\"2023-09-09T10:00\",\"2023-09-09T11:00\",\"2023-09-09T12:00\",\"2023-09-09T13:00\",\"2023-09-09T14:00\",\"2023-09-09T15:00\",\"2023-09-09T16:00\",\"2023-09-09T17:00\",\"2023-09-09T18:00\",\"2023-09-09T19:00\",\"2023-09-09T20:00\",\"2023-09-09T21:00\",\"2023-09-09T22:00\",\"2023-09-09T23:00\"],\"temperature_2m\":[15.4,15.1,14.8,14.8,14.9,14.6,14.5,15.2,16.6,18.7,20.7,22.1,23.2,23.8,24.6,24.9,24.5,22.8,21.7,20.3,19.0,18.1,17.5,17.1,16.6,16.3,16.0,15.7,15.6,15.5,15.6,16.7,18.7,20.8,22.4,23.6,24.7,25.2,25.2,24.7,24.0,23.0,21.7,19.8,18.1,17.1,16.6,16.4,16.2,16.1,16.1,16.1,16.1,16.1,16.1,17.2,19.0,21.1,23.2,24.6,25.6,26.6,26.7,26.4,25.4,24.0,22.4,20.8,19.7,18.9,18.5,18.2,17.9,17.7,17.2,16.8,16.6,16.2,15.9,16.8,19.2,21.8,24.3,26.5,28.3,29.7,30.6,31.0,31.0,30.6,29.8,28.2,26.2,24.5,23.4,22.5,21.8,21.2,20.7,20.2,19.7,19.3,19.4,20.4,22.0,23.6,25.1,26.7,27.7,28.2,28.3,27.9,26.9,25.4,23.8,22.3,20.7,19.4,18.6,18.2,17.8,17.2,16.5,16.0,15.4,14.9,15.1,16.5,18.6,20.7,22.7,24.8,26.3,28.8,29.5,29.9,29.8,29.3,28.5,27.5,26.3,25.1,24.2,23.4,22.6,21.9,21.3,20.7,19.7,18.7,18.5,19.6,21.5,23.3,24.9,26.4,27.7,28.5,29.0,29.2,29.1,28.7,28.0,26.7,25.0,23.5,22.5,21.6]}}\n",
      "\n",
      "Summarize this response to answer the original question.\n",
      "\n",
      "Summary:\n",
      "\n",
      "=============\n",
      "[llm][end] - generation  The current temperature in London is 22.8 degrees Celcius.\n"
     ]
    },
    {
     "data": {
      "text/plain": [
       "' The current temperature in London is 22.8 degrees Celcius.'"
      ]
     },
     "execution_count": 1,
     "metadata": {},
     "output_type": "execute_result"
    }
   ],
   "source": [
    "from _lessonshelper.pretty_print_callback_handler import PrettyPrintCallbackHandler\n",
    "pretty_callback = PrettyPrintCallbackHandler()\n",
    "\n",
    "from langchain.llms import OpenAI\n",
    "llm = OpenAI(temperature=0, callbacks=[pretty_callback])\n",
    "\n",
    "\n",
    "from langchain.chains.api import open_meteo_docs\n",
    "from langchain.chains import APIChain\n",
    "chain = APIChain.from_llm_and_api_docs(llm, open_meteo_docs.OPEN_METEO_DOCS,)\n",
    "\n",
    "chain.run('What is the weather like right now in London in degrees Celcius?')"
   ]
  }
 ],
 "metadata": {
  "kernelspec": {
   "display_name": "london-devops-VW7lFx7f-py3.11",
   "language": "python",
   "name": "python3"
  },
  "language_info": {
   "codemirror_mode": {
    "name": "ipython",
    "version": 3
   },
   "file_extension": ".py",
   "mimetype": "text/x-python",
   "name": "python",
   "nbconvert_exporter": "python",
   "pygments_lexer": "ipython3",
   "version": "3.11.4"
  },
  "orig_nbformat": 4
 },
 "nbformat": 4,
 "nbformat_minor": 2
}

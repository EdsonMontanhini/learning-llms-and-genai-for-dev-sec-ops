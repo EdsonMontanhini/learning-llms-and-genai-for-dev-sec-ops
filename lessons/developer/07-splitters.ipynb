{
 "cells": [
  {
   "cell_type": "code",
   "execution_count": 4,
   "metadata": {},
   "outputs": [
    {
     "name": "stdout",
     "output_type": "stream",
     "text": [
      "Requirement already satisfied: langchain in /Users/patrick.debois/Library/Caches/pypoetry/virtualenvs/london-devops-VW7lFx7f-py3.11/lib/python3.11/site-packages (0.0.279)\n",
      "Requirement already satisfied: markdown in /Users/patrick.debois/Library/Caches/pypoetry/virtualenvs/london-devops-VW7lFx7f-py3.11/lib/python3.11/site-packages (3.4.4)\n",
      "\u001b[31mERROR: Could not find a version that satisfies the requirement pprint (from versions: none)\u001b[0m\u001b[31m\n",
      "\u001b[0m\u001b[31mERROR: No matching distribution found for pprint\u001b[0m\u001b[31m\n",
      "\u001b[0mNote: you may need to restart the kernel to use updated packages.\n"
     ]
    }
   ],
   "source": [
    "%pip install langchain markdown pprint"
   ]
  },
  {
   "cell_type": "code",
   "execution_count": 2,
   "metadata": {},
   "outputs": [],
   "source": [
    "history_raw_text = \"\"\n",
    "    # This is a long document we can split up.\n",
    "with open(\"data/history.md\") as f:\n",
    "    history_raw_text = f.read()"
   ]
  },
  {
   "cell_type": "code",
   "execution_count": 6,
   "metadata": {},
   "outputs": [
    {
     "name": "stdout",
     "output_type": "stream",
     "text": [
      "[Document(page_content='# A history lesson on Devops', metadata={'start_index': 0}),\n",
      " Document(page_content='## Devopsdays', metadata={'start_index': 30}),\n",
      " Document(page_content='Devopsdays is the conference that bootstrapped the word \"Devops\" by organising the first event.', metadata={'start_index': 44}),\n",
      " Document(page_content='You can visit the conference site via <https://devopsdays.org>', metadata={'start_index': 140}),\n",
      " Document(page_content='## Devops Handbook\\nThis book was written by Gene Kim', metadata={'start_index': 204}),\n",
      " Document(page_content='## DevSecOps\\nAs a reaction of Devops, Security got its own name and movement.', metadata={'start_index': 258}),\n",
      " Document(page_content='Notably it talks about Shifting Security left.', metadata={'start_index': 336})]\n"
     ]
    }
   ],
   "source": [
    "# naive , generic chunksize splitter\n",
    "\n",
    "from langchain.text_splitter import RecursiveCharacterTextSplitter\n",
    "\n",
    "# Set a really small chunk size, just to show.\n",
    "text_splitter = RecursiveCharacterTextSplitter(\n",
    "     chunk_size=100,\n",
    "     chunk_overlap=0,\n",
    "     length_function=len,\n",
    "     add_start_index=True,\n",
    ")\n",
    "texts = text_splitter.create_documents([history_raw_text])\n",
    "\n",
    "from pprint import pprint\n",
    "pprint(texts)\n",
    "\n"
   ]
  },
  {
   "cell_type": "code",
   "execution_count": 8,
   "metadata": {},
   "outputs": [
    {
     "name": "stdout",
     "output_type": "stream",
     "text": [
      "[Document(page_content='Devopsdays is the conference that bootstrapped the word \"Devops\" by organising the first event.\\nYou can visit the conference site via <https://devopsdays.org>', metadata={'Header 1': 'A history lesson on Devops', 'Header 2': 'Devopsdays'}),\n",
      " Document(page_content='This book was written by Gene Kim', metadata={'Header 1': 'A history lesson on Devops', 'Header 2': 'Devops Handbook'}),\n",
      " Document(page_content='As a reaction of Devops, Security got its own name and movement.\\nNotably it talks about Shifting Security left.', metadata={'Header 1': 'A history lesson on Devops', 'Header 2': 'DevSecOps'})]\n"
     ]
    }
   ],
   "source": [
    "# Now use a document/content specific splitter\n",
    "from langchain.text_splitter import MarkdownHeaderTextSplitter\n",
    "\n",
    "headers_to_split_on = [\n",
    "    (\"#\", \"Header 1\"),\n",
    "    (\"##\", \"Header 2\"),\n",
    "    (\"###\", \"Header 3\"),\n",
    "]\n",
    "md_splitter = MarkdownHeaderTextSplitter(headers_to_split_on=headers_to_split_on)\n",
    "texts = md_splitter.split_text(history_raw_text)\n",
    "\n",
    "pprint(texts)"
   ]
  }
 ],
 "metadata": {
  "kernelspec": {
   "display_name": "london-devops-VW7lFx7f-py3.11",
   "language": "python",
   "name": "python3"
  },
  "language_info": {
   "codemirror_mode": {
    "name": "ipython",
    "version": 3
   },
   "file_extension": ".py",
   "mimetype": "text/x-python",
   "name": "python",
   "nbconvert_exporter": "python",
   "pygments_lexer": "ipython3",
   "version": "3.11.4"
  },
  "orig_nbformat": 4
 },
 "nbformat": 4,
 "nbformat_minor": 2
}

{
 "cells": [
  {
   "cell_type": "markdown",
   "metadata": {},
   "source": [
    "We're almost there:\n",
    "- We loaded the documents\n",
    "- We've split them in to relevant parts (splitters)\n",
    "- We've had the vector database calculate the embeddings and store the related parts\n",
    "\n",
    "Related Langchain example: https://python.langchain.com/docs/use_cases/question_answering/"
   ]
  },
  {
   "cell_type": "code",
   "execution_count": 1,
   "metadata": {},
   "outputs": [
    {
     "name": "stdout",
     "output_type": "stream",
     "text": [
      "Requirement already satisfied: langchain in /Volumes/home-ssd/patrick/Library/Caches/pypoetry/virtualenvs/london-devops-2Fa23Xyl-py3.11/lib/python3.11/site-packages (0.0.281)\n",
      "Requirement already satisfied: openai in /Volumes/home-ssd/patrick/Library/Caches/pypoetry/virtualenvs/london-devops-2Fa23Xyl-py3.11/lib/python3.11/site-packages (0.28.0)\n",
      "Requirement already satisfied: chromadb in /Volumes/home-ssd/patrick/Library/Caches/pypoetry/virtualenvs/london-devops-2Fa23Xyl-py3.11/lib/python3.11/site-packages (0.4.8)\n",
      "Requirement already satisfied: PyYAML>=5.3 in /Volumes/home-ssd/patrick/Library/Caches/pypoetry/virtualenvs/london-devops-2Fa23Xyl-py3.11/lib/python3.11/site-packages (from langchain) (6.0.1)\n",
      "Requirement already satisfied: SQLAlchemy<3,>=1.4 in /Volumes/home-ssd/patrick/Library/Caches/pypoetry/virtualenvs/london-devops-2Fa23Xyl-py3.11/lib/python3.11/site-packages (from langchain) (2.0.20)\n",
      "Requirement already satisfied: aiohttp<4.0.0,>=3.8.3 in /Volumes/home-ssd/patrick/Library/Caches/pypoetry/virtualenvs/london-devops-2Fa23Xyl-py3.11/lib/python3.11/site-packages (from langchain) (3.8.5)\n",
      "Requirement already satisfied: dataclasses-json<0.6.0,>=0.5.7 in /Volumes/home-ssd/patrick/Library/Caches/pypoetry/virtualenvs/london-devops-2Fa23Xyl-py3.11/lib/python3.11/site-packages (from langchain) (0.5.14)\n",
      "Requirement already satisfied: langsmith<0.1.0,>=0.0.21 in /Volumes/home-ssd/patrick/Library/Caches/pypoetry/virtualenvs/london-devops-2Fa23Xyl-py3.11/lib/python3.11/site-packages (from langchain) (0.0.33)\n",
      "Requirement already satisfied: numexpr<3.0.0,>=2.8.4 in /Volumes/home-ssd/patrick/Library/Caches/pypoetry/virtualenvs/london-devops-2Fa23Xyl-py3.11/lib/python3.11/site-packages (from langchain) (2.8.5)\n",
      "Requirement already satisfied: numpy<2,>=1 in /Volumes/home-ssd/patrick/Library/Caches/pypoetry/virtualenvs/london-devops-2Fa23Xyl-py3.11/lib/python3.11/site-packages (from langchain) (1.25.2)\n",
      "Requirement already satisfied: pydantic<3,>=1 in /Volumes/home-ssd/patrick/Library/Caches/pypoetry/virtualenvs/london-devops-2Fa23Xyl-py3.11/lib/python3.11/site-packages (from langchain) (1.10.12)\n",
      "Requirement already satisfied: requests<3,>=2 in /Volumes/home-ssd/patrick/Library/Caches/pypoetry/virtualenvs/london-devops-2Fa23Xyl-py3.11/lib/python3.11/site-packages (from langchain) (2.31.0)\n",
      "Requirement already satisfied: tenacity<9.0.0,>=8.1.0 in /Volumes/home-ssd/patrick/Library/Caches/pypoetry/virtualenvs/london-devops-2Fa23Xyl-py3.11/lib/python3.11/site-packages (from langchain) (8.2.3)\n",
      "Requirement already satisfied: tqdm in /Volumes/home-ssd/patrick/Library/Caches/pypoetry/virtualenvs/london-devops-2Fa23Xyl-py3.11/lib/python3.11/site-packages (from openai) (4.66.1)\n",
      "Requirement already satisfied: chroma-hnswlib==0.7.2 in /Volumes/home-ssd/patrick/Library/Caches/pypoetry/virtualenvs/london-devops-2Fa23Xyl-py3.11/lib/python3.11/site-packages (from chromadb) (0.7.2)\n",
      "Requirement already satisfied: fastapi<0.100.0,>=0.95.2 in /Volumes/home-ssd/patrick/Library/Caches/pypoetry/virtualenvs/london-devops-2Fa23Xyl-py3.11/lib/python3.11/site-packages (from chromadb) (0.99.1)\n",
      "Requirement already satisfied: uvicorn[standard]>=0.18.3 in /Volumes/home-ssd/patrick/Library/Caches/pypoetry/virtualenvs/london-devops-2Fa23Xyl-py3.11/lib/python3.11/site-packages (from chromadb) (0.23.2)\n",
      "Requirement already satisfied: posthog>=2.4.0 in /Volumes/home-ssd/patrick/Library/Caches/pypoetry/virtualenvs/london-devops-2Fa23Xyl-py3.11/lib/python3.11/site-packages (from chromadb) (3.0.2)\n",
      "Requirement already satisfied: typing-extensions>=4.5.0 in /Volumes/home-ssd/patrick/Library/Caches/pypoetry/virtualenvs/london-devops-2Fa23Xyl-py3.11/lib/python3.11/site-packages (from chromadb) (4.7.1)\n",
      "Requirement already satisfied: pulsar-client>=3.1.0 in /Volumes/home-ssd/patrick/Library/Caches/pypoetry/virtualenvs/london-devops-2Fa23Xyl-py3.11/lib/python3.11/site-packages (from chromadb) (3.3.0)\n",
      "Requirement already satisfied: onnxruntime>=1.14.1 in /Volumes/home-ssd/patrick/Library/Caches/pypoetry/virtualenvs/london-devops-2Fa23Xyl-py3.11/lib/python3.11/site-packages (from chromadb) (1.15.1)\n",
      "Requirement already satisfied: tokenizers>=0.13.2 in /Volumes/home-ssd/patrick/Library/Caches/pypoetry/virtualenvs/london-devops-2Fa23Xyl-py3.11/lib/python3.11/site-packages (from chromadb) (0.13.3)\n",
      "Requirement already satisfied: pypika>=0.48.9 in /Volumes/home-ssd/patrick/Library/Caches/pypoetry/virtualenvs/london-devops-2Fa23Xyl-py3.11/lib/python3.11/site-packages (from chromadb) (0.48.9)\n",
      "Requirement already satisfied: overrides>=7.3.1 in /Volumes/home-ssd/patrick/Library/Caches/pypoetry/virtualenvs/london-devops-2Fa23Xyl-py3.11/lib/python3.11/site-packages (from chromadb) (7.4.0)\n",
      "Requirement already satisfied: importlib-resources in /Volumes/home-ssd/patrick/Library/Caches/pypoetry/virtualenvs/london-devops-2Fa23Xyl-py3.11/lib/python3.11/site-packages (from chromadb) (6.0.1)\n",
      "Requirement already satisfied: bcrypt>=4.0.1 in /Volumes/home-ssd/patrick/Library/Caches/pypoetry/virtualenvs/london-devops-2Fa23Xyl-py3.11/lib/python3.11/site-packages (from chromadb) (4.0.1)\n",
      "Requirement already satisfied: attrs>=17.3.0 in /Volumes/home-ssd/patrick/Library/Caches/pypoetry/virtualenvs/london-devops-2Fa23Xyl-py3.11/lib/python3.11/site-packages (from aiohttp<4.0.0,>=3.8.3->langchain) (23.1.0)\n",
      "Requirement already satisfied: charset-normalizer<4.0,>=2.0 in /Volumes/home-ssd/patrick/Library/Caches/pypoetry/virtualenvs/london-devops-2Fa23Xyl-py3.11/lib/python3.11/site-packages (from aiohttp<4.0.0,>=3.8.3->langchain) (3.2.0)\n",
      "Requirement already satisfied: multidict<7.0,>=4.5 in /Volumes/home-ssd/patrick/Library/Caches/pypoetry/virtualenvs/london-devops-2Fa23Xyl-py3.11/lib/python3.11/site-packages (from aiohttp<4.0.0,>=3.8.3->langchain) (6.0.4)\n",
      "Requirement already satisfied: async-timeout<5.0,>=4.0.0a3 in /Volumes/home-ssd/patrick/Library/Caches/pypoetry/virtualenvs/london-devops-2Fa23Xyl-py3.11/lib/python3.11/site-packages (from aiohttp<4.0.0,>=3.8.3->langchain) (4.0.3)\n",
      "Requirement already satisfied: yarl<2.0,>=1.0 in /Volumes/home-ssd/patrick/Library/Caches/pypoetry/virtualenvs/london-devops-2Fa23Xyl-py3.11/lib/python3.11/site-packages (from aiohttp<4.0.0,>=3.8.3->langchain) (1.9.2)\n",
      "Requirement already satisfied: frozenlist>=1.1.1 in /Volumes/home-ssd/patrick/Library/Caches/pypoetry/virtualenvs/london-devops-2Fa23Xyl-py3.11/lib/python3.11/site-packages (from aiohttp<4.0.0,>=3.8.3->langchain) (1.4.0)\n",
      "Requirement already satisfied: aiosignal>=1.1.2 in /Volumes/home-ssd/patrick/Library/Caches/pypoetry/virtualenvs/london-devops-2Fa23Xyl-py3.11/lib/python3.11/site-packages (from aiohttp<4.0.0,>=3.8.3->langchain) (1.3.1)\n",
      "Requirement already satisfied: marshmallow<4.0.0,>=3.18.0 in /Volumes/home-ssd/patrick/Library/Caches/pypoetry/virtualenvs/london-devops-2Fa23Xyl-py3.11/lib/python3.11/site-packages (from dataclasses-json<0.6.0,>=0.5.7->langchain) (3.20.1)\n",
      "Requirement already satisfied: typing-inspect<1,>=0.4.0 in /Volumes/home-ssd/patrick/Library/Caches/pypoetry/virtualenvs/london-devops-2Fa23Xyl-py3.11/lib/python3.11/site-packages (from dataclasses-json<0.6.0,>=0.5.7->langchain) (0.9.0)\n",
      "Requirement already satisfied: starlette<0.28.0,>=0.27.0 in /Volumes/home-ssd/patrick/Library/Caches/pypoetry/virtualenvs/london-devops-2Fa23Xyl-py3.11/lib/python3.11/site-packages (from fastapi<0.100.0,>=0.95.2->chromadb) (0.27.0)\n",
      "Requirement already satisfied: coloredlogs in /Volumes/home-ssd/patrick/Library/Caches/pypoetry/virtualenvs/london-devops-2Fa23Xyl-py3.11/lib/python3.11/site-packages (from onnxruntime>=1.14.1->chromadb) (15.0.1)\n",
      "Requirement already satisfied: flatbuffers in /Volumes/home-ssd/patrick/Library/Caches/pypoetry/virtualenvs/london-devops-2Fa23Xyl-py3.11/lib/python3.11/site-packages (from onnxruntime>=1.14.1->chromadb) (23.5.26)\n",
      "Requirement already satisfied: packaging in /Volumes/home-ssd/patrick/Library/Caches/pypoetry/virtualenvs/london-devops-2Fa23Xyl-py3.11/lib/python3.11/site-packages (from onnxruntime>=1.14.1->chromadb) (23.1)\n",
      "Requirement already satisfied: protobuf in /Volumes/home-ssd/patrick/Library/Caches/pypoetry/virtualenvs/london-devops-2Fa23Xyl-py3.11/lib/python3.11/site-packages (from onnxruntime>=1.14.1->chromadb) (4.24.2)\n",
      "Requirement already satisfied: sympy in /Volumes/home-ssd/patrick/Library/Caches/pypoetry/virtualenvs/london-devops-2Fa23Xyl-py3.11/lib/python3.11/site-packages (from onnxruntime>=1.14.1->chromadb) (1.12)\n",
      "Requirement already satisfied: six>=1.5 in /Volumes/home-ssd/patrick/Library/Caches/pypoetry/virtualenvs/london-devops-2Fa23Xyl-py3.11/lib/python3.11/site-packages (from posthog>=2.4.0->chromadb) (1.16.0)\n",
      "Requirement already satisfied: monotonic>=1.5 in /Volumes/home-ssd/patrick/Library/Caches/pypoetry/virtualenvs/london-devops-2Fa23Xyl-py3.11/lib/python3.11/site-packages (from posthog>=2.4.0->chromadb) (1.6)\n",
      "Requirement already satisfied: backoff>=1.10.0 in /Volumes/home-ssd/patrick/Library/Caches/pypoetry/virtualenvs/london-devops-2Fa23Xyl-py3.11/lib/python3.11/site-packages (from posthog>=2.4.0->chromadb) (2.2.1)\n",
      "Requirement already satisfied: python-dateutil>2.1 in /Volumes/home-ssd/patrick/Library/Caches/pypoetry/virtualenvs/london-devops-2Fa23Xyl-py3.11/lib/python3.11/site-packages (from posthog>=2.4.0->chromadb) (2.8.2)\n",
      "Requirement already satisfied: certifi in /Volumes/home-ssd/patrick/Library/Caches/pypoetry/virtualenvs/london-devops-2Fa23Xyl-py3.11/lib/python3.11/site-packages (from pulsar-client>=3.1.0->chromadb) (2023.7.22)\n",
      "Requirement already satisfied: idna<4,>=2.5 in /Volumes/home-ssd/patrick/Library/Caches/pypoetry/virtualenvs/london-devops-2Fa23Xyl-py3.11/lib/python3.11/site-packages (from requests<3,>=2->langchain) (3.4)\n",
      "Requirement already satisfied: urllib3<3,>=1.21.1 in /Volumes/home-ssd/patrick/Library/Caches/pypoetry/virtualenvs/london-devops-2Fa23Xyl-py3.11/lib/python3.11/site-packages (from requests<3,>=2->langchain) (2.0.4)\n",
      "Requirement already satisfied: click>=7.0 in /Volumes/home-ssd/patrick/Library/Caches/pypoetry/virtualenvs/london-devops-2Fa23Xyl-py3.11/lib/python3.11/site-packages (from uvicorn[standard]>=0.18.3->chromadb) (8.1.7)\n",
      "Requirement already satisfied: h11>=0.8 in /Volumes/home-ssd/patrick/Library/Caches/pypoetry/virtualenvs/london-devops-2Fa23Xyl-py3.11/lib/python3.11/site-packages (from uvicorn[standard]>=0.18.3->chromadb) (0.14.0)\n",
      "Requirement already satisfied: httptools>=0.5.0 in /Volumes/home-ssd/patrick/Library/Caches/pypoetry/virtualenvs/london-devops-2Fa23Xyl-py3.11/lib/python3.11/site-packages (from uvicorn[standard]>=0.18.3->chromadb) (0.6.0)\n",
      "Requirement already satisfied: python-dotenv>=0.13 in /Volumes/home-ssd/patrick/Library/Caches/pypoetry/virtualenvs/london-devops-2Fa23Xyl-py3.11/lib/python3.11/site-packages (from uvicorn[standard]>=0.18.3->chromadb) (1.0.0)\n",
      "Requirement already satisfied: uvloop!=0.15.0,!=0.15.1,>=0.14.0 in /Volumes/home-ssd/patrick/Library/Caches/pypoetry/virtualenvs/london-devops-2Fa23Xyl-py3.11/lib/python3.11/site-packages (from uvicorn[standard]>=0.18.3->chromadb) (0.17.0)\n",
      "Requirement already satisfied: watchfiles>=0.13 in /Volumes/home-ssd/patrick/Library/Caches/pypoetry/virtualenvs/london-devops-2Fa23Xyl-py3.11/lib/python3.11/site-packages (from uvicorn[standard]>=0.18.3->chromadb) (0.20.0)\n",
      "Requirement already satisfied: websockets>=10.4 in /Volumes/home-ssd/patrick/Library/Caches/pypoetry/virtualenvs/london-devops-2Fa23Xyl-py3.11/lib/python3.11/site-packages (from uvicorn[standard]>=0.18.3->chromadb) (11.0.3)\n",
      "Requirement already satisfied: anyio<5,>=3.4.0 in /Volumes/home-ssd/patrick/Library/Caches/pypoetry/virtualenvs/london-devops-2Fa23Xyl-py3.11/lib/python3.11/site-packages (from starlette<0.28.0,>=0.27.0->fastapi<0.100.0,>=0.95.2->chromadb) (4.0.0)\n",
      "Requirement already satisfied: mypy-extensions>=0.3.0 in /Volumes/home-ssd/patrick/Library/Caches/pypoetry/virtualenvs/london-devops-2Fa23Xyl-py3.11/lib/python3.11/site-packages (from typing-inspect<1,>=0.4.0->dataclasses-json<0.6.0,>=0.5.7->langchain) (1.0.0)\n",
      "Requirement already satisfied: humanfriendly>=9.1 in /Volumes/home-ssd/patrick/Library/Caches/pypoetry/virtualenvs/london-devops-2Fa23Xyl-py3.11/lib/python3.11/site-packages (from coloredlogs->onnxruntime>=1.14.1->chromadb) (10.0)\n",
      "Requirement already satisfied: mpmath>=0.19 in /Volumes/home-ssd/patrick/Library/Caches/pypoetry/virtualenvs/london-devops-2Fa23Xyl-py3.11/lib/python3.11/site-packages (from sympy->onnxruntime>=1.14.1->chromadb) (1.3.0)\n",
      "Requirement already satisfied: sniffio>=1.1 in /Volumes/home-ssd/patrick/Library/Caches/pypoetry/virtualenvs/london-devops-2Fa23Xyl-py3.11/lib/python3.11/site-packages (from anyio<5,>=3.4.0->starlette<0.28.0,>=0.27.0->fastapi<0.100.0,>=0.95.2->chromadb) (1.3.0)\n",
      "Note: you may need to restart the kernel to use updated packages.\n"
     ]
    }
   ],
   "source": [
    "%pip install langchain openai chromadb"
   ]
  },
  {
   "cell_type": "markdown",
   "metadata": {},
   "source": [
    "More of the boilerplate we prepared earlier."
   ]
  },
  {
   "cell_type": "code",
   "execution_count": 2,
   "metadata": {},
   "outputs": [
    {
     "name": "stdout",
     "output_type": "stream",
     "text": [
      "[Document(page_content='Devopsdays is a worldwide series of technical conferences covering topics of software development, IT infrastructure operations, and the intersection between them. Each event is run by volunteers from the local area.  \\nMost devopsdays events feature a combination of curated talks (see open Calls for Proposals) and self organized open space content. Topics often include automation, testing, security, and organizational culture.', metadata={'Header 1': 'A history lesson on Devops', 'Header 2': 'Devopsdays'}),\n",
      " Document(page_content='The first devopsdays was held in Ghent, Belgium in 2009. Since then, devopsdays events have multiplied, and if there isn’t one in your city, check out the information about organizing one yourself!', metadata={'Header 1': 'A history lesson on Devops', 'Header 2': 'Devopsdays', 'Header 3': 'History'}),\n",
      " Document(page_content='The devopsdays global core team guides local organizers in hosting their own devopsdays events worldwide. Active core organizers onboard and guide events, answer questions, and maintain the website. Advisory core organizers are less involved day-to-day but weigh in on important matters and assist as needed. Emeritus core organizers are no longer involved in the core team; we thank them for their past efforts.', metadata={'Header 1': 'A history lesson on Devops', 'Header 2': 'Devopsdays', 'Header 3': 'About the organization'}),\n",
      " Document(page_content='The Devops Handbook was written by the following authors: Gene Kim, Jez Humble , John Willis , Patrick Debois and John Allspaw.  \\nGene Kim is a multiple award-winning entrepreneur, the founder and former CTO of Tripwire and a researcher. He is passionate about IT operations, security and compliance, and how IT organizations successfully transform from \"good to great.\"\\x9d He lives in Portland, Oregon.  \\nJez Humble is an award-winning author and researcher on software who has spent his career tinkering with code, infrastructure, and product development in organizations of varying sizes across three continents. He works at 18F, teaches at UC Berkeley, and is co-founder of DevOps Research and Assessment LLC.  \\nPatrick Debois is an independent IT-consultant who is bridging the gap between projects and operations by using Agile techniques both in development, project management and system administration.  \\nJohn Willis has worked in the IT management industry for more than 30 years. He has authored six IBM Redbooks for IBM on enterprise systems management and was the founder and chief architect at Chain Bridge Systems. He lives in Atlanta, Georgia.', metadata={'Header 1': 'A history lesson on Devops', 'Header 2': 'Devops Handbook authors'}),\n",
      " Document(page_content='As a reaction of Devops, Security got its own name and movement.\\nNotably it talks about Shifting Security left.', metadata={'Header 1': 'A history lesson on Devops', 'Header 2': 'DevSecOps'})]\n"
     ]
    }
   ],
   "source": [
    "from langchain.chains import RetrievalQA\n",
    "from langchain.chat_models import ChatOpenAI\n",
    "\n",
    "\n",
    "from langchain.text_splitter import MarkdownHeaderTextSplitter\n",
    "from langchain.embeddings.openai import OpenAIEmbeddings\n",
    "from langchain.vectorstores import Chroma\n",
    "\n",
    "# We load the texts\n",
    "from langchain.text_splitter import MarkdownHeaderTextSplitter\n",
    "\n",
    "history_raw_text = \"\"\n",
    "    # This is a long document we can split up.\n",
    "with open(\"data/history.md\") as f:\n",
    "    history_raw_text = f.read()\n",
    "    \n",
    "headers_to_split_on = [\n",
    "    (\"#\", \"Header 1\"),\n",
    "    (\"##\", \"Header 2\"),\n",
    "    (\"###\", \"Header 3\"),\n",
    "]\n",
    "md_splitter = MarkdownHeaderTextSplitter(headers_to_split_on=headers_to_split_on)\n",
    "raw_documents = md_splitter.split_text(history_raw_text)\n",
    "\n",
    "from pprint import pprint\n",
    "pprint(raw_documents)\n",
    "\n",
    "# Set the embeddings function\n",
    "embeddings_model = OpenAIEmbeddings()\n",
    "\n",
    "# Resetting chromadb just in case\n",
    "import chromadb\n",
    "from chromadb import Settings\n",
    "client = chromadb.Client(settings=Settings(allow_reset=True))\n",
    "client.reset()\n",
    "\n",
    "db = Chroma.from_documents(raw_documents, embeddings_model)\n"
   ]
  },
  {
   "cell_type": "markdown",
   "metadata": {},
   "source": [
    "Now this is the step we put it all together by using the RetrievalQA chain.\n",
    "This combines the vectordatabase , the prompt , the llm to return answer.\n"
   ]
  },
  {
   "cell_type": "code",
   "execution_count": 3,
   "metadata": {},
   "outputs": [],
   "source": [
    "llm = ChatOpenAI(model_name=\"gpt-3.5-turbo\", temperature=0)\n",
    "from _lessonshelper.pretty_print_callback_handler import PrettyPrintCallbackHandler\n",
    "\n",
    "pretty_print_callback = PrettyPrintCallbackHandler()\n",
    "llm.callbacks = [pretty_print_callback]\n",
    "\n",
    "qa_chain = RetrievalQA.from_chain_type(\n",
    "    llm, retriever=db.as_retriever(), return_source_documents=True\n",
    ")\n"
   ]
  },
  {
   "cell_type": "markdown",
   "metadata": {},
   "source": [
    "For comparison let's first do our query through the regular llm call.\n",
    "You see it returns 4 authors of the Devops Handbook."
   ]
  },
  {
   "cell_type": "code",
   "execution_count": 4,
   "metadata": {},
   "outputs": [
    {
     "name": "stdout",
     "output_type": "stream",
     "text": [
      "[chat_model][start] - prompts : Who were the people involved in writing the devops Handbook ? If there are multiple authors return them all. Return the result as json and use the field firstname and lastname\n",
      "\n",
      "=============\n",
      "[llm][end] - generation The authors of \"The DevOps Handbook\" are Gene Kim, Jez Humble, Patrick Debois, and John Willis. Here is the information in JSON format:\n",
      "\n",
      "[\n",
      "  {\n",
      "    \"firstname\": \"Gene\",\n",
      "    \"lastname\": \"Kim\"\n",
      "  },\n",
      "  {\n",
      "    \"firstname\": \"Jez\",\n",
      "    \"lastname\": \"Humble\"\n",
      "  },\n",
      "  {\n",
      "    \"firstname\": \"Patrick\",\n",
      "    \"lastname\": \"Debois\"\n",
      "  },\n",
      "  {\n",
      "    \"firstname\": \"John\",\n",
      "    \"lastname\": \"Willis\"\n",
      "  }\n",
      "]\n",
      "AIMessage(content='The authors of \"The DevOps Handbook\" are Gene Kim, Jez Humble, Patrick Debois, and John Willis. Here is the information in JSON format:\\n\\n[\\n  {\\n    \"firstname\": \"Gene\",\\n    \"lastname\": \"Kim\"\\n  },\\n  {\\n    \"firstname\": \"Jez\",\\n    \"lastname\": \"Humble\"\\n  },\\n  {\\n    \"firstname\": \"Patrick\",\\n    \"lastname\": \"Debois\"\\n  },\\n  {\\n    \"firstname\": \"John\",\\n    \"lastname\": \"Willis\"\\n  }\\n]', additional_kwargs={}, example=False)\n"
     ]
    }
   ],
   "source": [
    "\n",
    "query = \"Who were the people involved in writing the devops Handbook ? If there are multiple authors return them all. Return the result as json and use the field firstname and lastname\"\n",
    "\n",
    "\n",
    "# First via the llm\n",
    "from langchain.schema import (\n",
    "    HumanMessage,\n",
    ")\n",
    "\n",
    "answer = llm([HumanMessage(content=query)])\n",
    "pprint(answer)\n"
   ]
  },
  {
   "cell_type": "markdown",
   "metadata": {},
   "source": [
    "Now with the retrieval chain we see it returns 5 authors. The extra one being John Allspaw who wrote the foreword."
   ]
  },
  {
   "cell_type": "code",
   "execution_count": 5,
   "metadata": {},
   "outputs": [
    {
     "name": "stdout",
     "output_type": "stream",
     "text": [
      "[chat_model][start] - prompts : Use the following pieces of context to answer the users question. \n",
      "If you don't know the answer, just say that you don't know, don't try to make up an answer.\n",
      "----------------\n",
      "The Devops Handbook was written by the following authors: Gene Kim, Jez Humble , John Willis , Patrick Debois and John Allspaw.  \n",
      "Gene Kim is a multiple award-winning entrepreneur, the founder and former CTO of Tripwire and a researcher. He is passionate about IT operations, security and compliance, and how IT organizations successfully transform from \"good to great.\" He lives in Portland, Oregon.  \n",
      "Jez Humble is an award-winning author and researcher on software who has spent his career tinkering with code, infrastructure, and product development in organizations of varying sizes across three continents. He works at 18F, teaches at UC Berkeley, and is co-founder of DevOps Research and Assessment LLC.  \n",
      "Patrick Debois is an independent IT-consultant who is bridging the gap between projects and operations by using Agile techniques both in development, project management and system administration.  \n",
      "John Willis has worked in the IT management industry for more than 30 years. He has authored six IBM Redbooks for IBM on enterprise systems management and was the founder and chief architect at Chain Bridge Systems. He lives in Atlanta, Georgia.\n",
      "\n",
      "The first devopsdays was held in Ghent, Belgium in 2009. Since then, devopsdays events have multiplied, and if there isn’t one in your city, check out the information about organizing one yourself!\n",
      "\n",
      "The devopsdays global core team guides local organizers in hosting their own devopsdays events worldwide. Active core organizers onboard and guide events, answer questions, and maintain the website. Advisory core organizers are less involved day-to-day but weigh in on important matters and assist as needed. Emeritus core organizers are no longer involved in the core team; we thank them for their past efforts.\n",
      "\n",
      "Devopsdays is a worldwide series of technical conferences covering topics of software development, IT infrastructure operations, and the intersection between them. Each event is run by volunteers from the local area.  \n",
      "Most devopsdays events feature a combination of curated talks (see open Calls for Proposals) and self organized open space content. Topics often include automation, testing, security, and organizational culture.\n",
      "[chat_model][start] - prompts : Who were the people involved in writing the devops Handbook ? If there are multiple authors return them all. Return the result as json and use the field firstname and lastname\n",
      "\n",
      "=============\n",
      "[llm][end] - generation {\n",
      "  \"authors\": [\n",
      "    {\n",
      "      \"firstname\": \"Gene\",\n",
      "      \"lastname\": \"Kim\"\n",
      "    },\n",
      "    {\n",
      "      \"firstname\": \"Jez\",\n",
      "      \"lastname\": \"Humble\"\n",
      "    },\n",
      "    {\n",
      "      \"firstname\": \"John\",\n",
      "      \"lastname\": \"Willis\"\n",
      "    },\n",
      "    {\n",
      "      \"firstname\": \"Patrick\",\n",
      "      \"lastname\": \"Debois\"\n",
      "    },\n",
      "    {\n",
      "      \"firstname\": \"John\",\n",
      "      \"lastname\": \"Allspaw\"\n",
      "    }\n",
      "  ]\n",
      "}\n",
      "{'query': 'Who were the people involved in writing the devops Handbook ? If '\n",
      "          'there are multiple authors return them all. Return the result as '\n",
      "          'json and use the field firstname and lastname',\n",
      " 'result': '{\\n'\n",
      "           '  \"authors\": [\\n'\n",
      "           '    {\\n'\n",
      "           '      \"firstname\": \"Gene\",\\n'\n",
      "           '      \"lastname\": \"Kim\"\\n'\n",
      "           '    },\\n'\n",
      "           '    {\\n'\n",
      "           '      \"firstname\": \"Jez\",\\n'\n",
      "           '      \"lastname\": \"Humble\"\\n'\n",
      "           '    },\\n'\n",
      "           '    {\\n'\n",
      "           '      \"firstname\": \"John\",\\n'\n",
      "           '      \"lastname\": \"Willis\"\\n'\n",
      "           '    },\\n'\n",
      "           '    {\\n'\n",
      "           '      \"firstname\": \"Patrick\",\\n'\n",
      "           '      \"lastname\": \"Debois\"\\n'\n",
      "           '    },\\n'\n",
      "           '    {\\n'\n",
      "           '      \"firstname\": \"John\",\\n'\n",
      "           '      \"lastname\": \"Allspaw\"\\n'\n",
      "           '    }\\n'\n",
      "           '  ]\\n'\n",
      "           '}',\n",
      " 'source_documents': [Document(page_content='The Devops Handbook was written by the following authors: Gene Kim, Jez Humble , John Willis , Patrick Debois and John Allspaw.  \\nGene Kim is a multiple award-winning entrepreneur, the founder and former CTO of Tripwire and a researcher. He is passionate about IT operations, security and compliance, and how IT organizations successfully transform from \"good to great.\"\\x9d He lives in Portland, Oregon.  \\nJez Humble is an award-winning author and researcher on software who has spent his career tinkering with code, infrastructure, and product development in organizations of varying sizes across three continents. He works at 18F, teaches at UC Berkeley, and is co-founder of DevOps Research and Assessment LLC.  \\nPatrick Debois is an independent IT-consultant who is bridging the gap between projects and operations by using Agile techniques both in development, project management and system administration.  \\nJohn Willis has worked in the IT management industry for more than 30 years. He has authored six IBM Redbooks for IBM on enterprise systems management and was the founder and chief architect at Chain Bridge Systems. He lives in Atlanta, Georgia.', metadata={'Header 1': 'A history lesson on Devops', 'Header 2': 'Devops Handbook authors'}),\n",
      "                      Document(page_content='The first devopsdays was held in Ghent, Belgium in 2009. Since then, devopsdays events have multiplied, and if there isn’t one in your city, check out the information about organizing one yourself!', metadata={'Header 1': 'A history lesson on Devops', 'Header 2': 'Devopsdays', 'Header 3': 'History'}),\n",
      "                      Document(page_content='The devopsdays global core team guides local organizers in hosting their own devopsdays events worldwide. Active core organizers onboard and guide events, answer questions, and maintain the website. Advisory core organizers are less involved day-to-day but weigh in on important matters and assist as needed. Emeritus core organizers are no longer involved in the core team; we thank them for their past efforts.', metadata={'Header 1': 'A history lesson on Devops', 'Header 2': 'Devopsdays', 'Header 3': 'About the organization'}),\n",
      "                      Document(page_content='Devopsdays is a worldwide series of technical conferences covering topics of software development, IT infrastructure operations, and the intersection between them. Each event is run by volunteers from the local area.  \\nMost devopsdays events feature a combination of curated talks (see open Calls for Proposals) and self organized open space content. Topics often include automation, testing, security, and organizational culture.', metadata={'Header 1': 'A history lesson on Devops', 'Header 2': 'Devopsdays'})]}\n"
     ]
    }
   ],
   "source": [
    "\n",
    "# next via the llm via Retrieval Augmented Generation\n",
    "answer = qa_chain({\"query\": query})\n",
    "pprint(answer)\n"
   ]
  },
  {
   "cell_type": "markdown",
   "metadata": {},
   "source": [
    "This combination of RAG is one of the primary patterns people are using LLMs with their own data."
   ]
  }
 ],
 "metadata": {
  "kernelspec": {
   "display_name": "london-devops-VW7lFx7f-py3.11",
   "language": "python",
   "name": "python3"
  },
  "language_info": {
   "codemirror_mode": {
    "name": "ipython",
    "version": 3
   },
   "file_extension": ".py",
   "mimetype": "text/x-python",
   "name": "python",
   "nbconvert_exporter": "python",
   "pygments_lexer": "ipython3",
   "version": "3.11.4"
  },
  "orig_nbformat": 4
 },
 "nbformat": 4,
 "nbformat_minor": 2
}

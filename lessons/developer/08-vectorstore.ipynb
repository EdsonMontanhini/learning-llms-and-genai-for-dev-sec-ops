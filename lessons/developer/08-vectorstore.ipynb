{
 "cells": [
  {
   "cell_type": "markdown",
   "metadata": {},
   "source": [
    "Instead of calculating these embeddings everytime , we store these vectors into a vector database. In many cases , they also provide the service to calculate the embeddings using the model you select."
   ]
  },
  {
   "cell_type": "code",
   "execution_count": 1,
   "metadata": {},
   "outputs": [
    {
     "name": "stdout",
     "output_type": "stream",
     "text": [
      "Requirement already satisfied: langchain in /Volumes/home-ssd/patrick/Library/Caches/pypoetry/virtualenvs/london-devops-2Fa23Xyl-py3.11/lib/python3.11/site-packages (0.0.281)\n",
      "Requirement already satisfied: python-dotenv in /Volumes/home-ssd/patrick/Library/Caches/pypoetry/virtualenvs/london-devops-2Fa23Xyl-py3.11/lib/python3.11/site-packages (1.0.0)\n",
      "Requirement already satisfied: openai in /Volumes/home-ssd/patrick/Library/Caches/pypoetry/virtualenvs/london-devops-2Fa23Xyl-py3.11/lib/python3.11/site-packages (0.28.0)\n",
      "Requirement already satisfied: tiktoken in /Volumes/home-ssd/patrick/Library/Caches/pypoetry/virtualenvs/london-devops-2Fa23Xyl-py3.11/lib/python3.11/site-packages (0.4.0)\n",
      "Collecting chromadb\n",
      "  Obtaining dependency information for chromadb from https://files.pythonhosted.org/packages/f2/30/0d767083adb204422e10a5529f57a8afa9dc921f76620f11693e67b23c3a/chromadb-0.4.8-py3-none-any.whl.metadata\n",
      "  Downloading chromadb-0.4.8-py3-none-any.whl.metadata (6.9 kB)\n",
      "Requirement already satisfied: PyYAML>=5.3 in /Volumes/home-ssd/patrick/Library/Caches/pypoetry/virtualenvs/london-devops-2Fa23Xyl-py3.11/lib/python3.11/site-packages (from langchain) (6.0.1)\n",
      "Requirement already satisfied: SQLAlchemy<3,>=1.4 in /Volumes/home-ssd/patrick/Library/Caches/pypoetry/virtualenvs/london-devops-2Fa23Xyl-py3.11/lib/python3.11/site-packages (from langchain) (2.0.20)\n",
      "Requirement already satisfied: aiohttp<4.0.0,>=3.8.3 in /Volumes/home-ssd/patrick/Library/Caches/pypoetry/virtualenvs/london-devops-2Fa23Xyl-py3.11/lib/python3.11/site-packages (from langchain) (3.8.5)\n",
      "Requirement already satisfied: dataclasses-json<0.6.0,>=0.5.7 in /Volumes/home-ssd/patrick/Library/Caches/pypoetry/virtualenvs/london-devops-2Fa23Xyl-py3.11/lib/python3.11/site-packages (from langchain) (0.5.14)\n",
      "Requirement already satisfied: langsmith<0.1.0,>=0.0.21 in /Volumes/home-ssd/patrick/Library/Caches/pypoetry/virtualenvs/london-devops-2Fa23Xyl-py3.11/lib/python3.11/site-packages (from langchain) (0.0.33)\n",
      "Requirement already satisfied: numexpr<3.0.0,>=2.8.4 in /Volumes/home-ssd/patrick/Library/Caches/pypoetry/virtualenvs/london-devops-2Fa23Xyl-py3.11/lib/python3.11/site-packages (from langchain) (2.8.5)\n",
      "Requirement already satisfied: numpy<2,>=1 in /Volumes/home-ssd/patrick/Library/Caches/pypoetry/virtualenvs/london-devops-2Fa23Xyl-py3.11/lib/python3.11/site-packages (from langchain) (1.25.2)\n",
      "Requirement already satisfied: pydantic<3,>=1 in /Volumes/home-ssd/patrick/Library/Caches/pypoetry/virtualenvs/london-devops-2Fa23Xyl-py3.11/lib/python3.11/site-packages (from langchain) (2.3.0)\n",
      "Requirement already satisfied: requests<3,>=2 in /Volumes/home-ssd/patrick/Library/Caches/pypoetry/virtualenvs/london-devops-2Fa23Xyl-py3.11/lib/python3.11/site-packages (from langchain) (2.31.0)\n",
      "Requirement already satisfied: tenacity<9.0.0,>=8.1.0 in /Volumes/home-ssd/patrick/Library/Caches/pypoetry/virtualenvs/london-devops-2Fa23Xyl-py3.11/lib/python3.11/site-packages (from langchain) (8.2.3)\n",
      "Requirement already satisfied: tqdm in /Volumes/home-ssd/patrick/Library/Caches/pypoetry/virtualenvs/london-devops-2Fa23Xyl-py3.11/lib/python3.11/site-packages (from openai) (4.66.1)\n",
      "Requirement already satisfied: regex>=2022.1.18 in /Volumes/home-ssd/patrick/Library/Caches/pypoetry/virtualenvs/london-devops-2Fa23Xyl-py3.11/lib/python3.11/site-packages (from tiktoken) (2023.8.8)\n",
      "Collecting pydantic<3,>=1 (from langchain)\n",
      "  Obtaining dependency information for pydantic<3,>=1 from https://files.pythonhosted.org/packages/f9/e7/8dc6b418c3eefd15274e93e58ebd7ed95a650cc0ee3f38673bb56a8aa3f7/pydantic-1.10.12-cp311-cp311-macosx_11_0_arm64.whl.metadata\n",
      "  Downloading pydantic-1.10.12-cp311-cp311-macosx_11_0_arm64.whl.metadata (149 kB)\n",
      "\u001b[2K     \u001b[90m━━━━━━━━━━━━━━━━━━━━━━━━━━━━━━━━━━━━━━━\u001b[0m \u001b[32m149.3/149.3 kB\u001b[0m \u001b[31m3.3 MB/s\u001b[0m eta \u001b[36m0:00:00\u001b[0ma \u001b[36m0:00:01\u001b[0m\n",
      "\u001b[?25hCollecting chroma-hnswlib==0.7.2 (from chromadb)\n",
      "  Downloading chroma-hnswlib-0.7.2.tar.gz (31 kB)\n",
      "  Installing build dependencies ... \u001b[?25ldone\n",
      "\u001b[?25h  Getting requirements to build wheel ... \u001b[?25ldone\n",
      "\u001b[?25h  Preparing metadata (pyproject.toml) ... \u001b[?25ldone\n",
      "\u001b[?25hCollecting fastapi<0.100.0,>=0.95.2 (from chromadb)\n",
      "  Obtaining dependency information for fastapi<0.100.0,>=0.95.2 from https://files.pythonhosted.org/packages/73/eb/03b691afa0b5ffa1e93ed34f97ec1e7855c758efbdcfb16c209af0b0506b/fastapi-0.99.1-py3-none-any.whl.metadata\n",
      "  Downloading fastapi-0.99.1-py3-none-any.whl.metadata (23 kB)\n",
      "Collecting uvicorn[standard]>=0.18.3 (from chromadb)\n",
      "  Obtaining dependency information for uvicorn[standard]>=0.18.3 from https://files.pythonhosted.org/packages/79/96/b0882a1c3f7ef3dd86879e041212ae5b62b4bd352320889231cc735a8e8f/uvicorn-0.23.2-py3-none-any.whl.metadata\n",
      "  Downloading uvicorn-0.23.2-py3-none-any.whl.metadata (6.2 kB)\n",
      "Collecting posthog>=2.4.0 (from chromadb)\n",
      "  Obtaining dependency information for posthog>=2.4.0 from https://files.pythonhosted.org/packages/a7/73/35758818228c70348be4c3c66a76653c62e894e0e3c3461453c5341ca926/posthog-3.0.2-py2.py3-none-any.whl.metadata\n",
      "  Downloading posthog-3.0.2-py2.py3-none-any.whl.metadata (2.0 kB)\n",
      "Requirement already satisfied: typing-extensions>=4.5.0 in /Volumes/home-ssd/patrick/Library/Caches/pypoetry/virtualenvs/london-devops-2Fa23Xyl-py3.11/lib/python3.11/site-packages (from chromadb) (4.7.1)\n",
      "Collecting pulsar-client>=3.1.0 (from chromadb)\n",
      "  Obtaining dependency information for pulsar-client>=3.1.0 from https://files.pythonhosted.org/packages/2d/b1/e7fa626abe03ba5a2a8d52ed05ebc6ff2ab6b13b771f05d8175feabfa17b/pulsar_client-3.3.0-cp311-cp311-macosx_10_15_universal2.whl.metadata\n",
      "  Downloading pulsar_client-3.3.0-cp311-cp311-macosx_10_15_universal2.whl.metadata (1.0 kB)\n",
      "Collecting onnxruntime>=1.14.1 (from chromadb)\n",
      "  Obtaining dependency information for onnxruntime>=1.14.1 from https://files.pythonhosted.org/packages/17/2f/83f6ef69403624e74bc068f8674af34d3af44314a808adac267b2e379171/onnxruntime-1.15.1-cp311-cp311-macosx_11_0_arm64.whl.metadata\n",
      "  Downloading onnxruntime-1.15.1-cp311-cp311-macosx_11_0_arm64.whl.metadata (4.0 kB)\n",
      "Collecting tokenizers>=0.13.2 (from chromadb)\n",
      "  Using cached tokenizers-0.13.3-cp311-cp311-macosx_12_0_arm64.whl (3.9 MB)\n",
      "Collecting pypika>=0.48.9 (from chromadb)\n",
      "  Downloading PyPika-0.48.9.tar.gz (67 kB)\n",
      "\u001b[2K     \u001b[90m━━━━━━━━━━━━━━━━━━━━━━━━━━━━━━━━━━━━━━━━\u001b[0m \u001b[32m67.3/67.3 kB\u001b[0m \u001b[31m3.5 MB/s\u001b[0m eta \u001b[36m0:00:00\u001b[0m\n",
      "\u001b[?25h  Installing build dependencies ... \u001b[?25ldone\n",
      "\u001b[?25h  Getting requirements to build wheel ... \u001b[?25ldone\n",
      "\u001b[?25h  Preparing metadata (pyproject.toml) ... \u001b[?25ldone\n",
      "\u001b[?25hCollecting overrides>=7.3.1 (from chromadb)\n",
      "  Obtaining dependency information for overrides>=7.3.1 from https://files.pythonhosted.org/packages/da/28/3fa6ef8297302fc7b3844980b6c5dbc71cdbd4b61e9b2591234214d5ab39/overrides-7.4.0-py3-none-any.whl.metadata\n",
      "  Downloading overrides-7.4.0-py3-none-any.whl.metadata (5.7 kB)\n",
      "Collecting importlib-resources (from chromadb)\n",
      "  Obtaining dependency information for importlib-resources from https://files.pythonhosted.org/packages/25/d4/592f53ce2f8dde8be5720851bd0ab71cc2e76c55978e4163ef1ab7e389bb/importlib_resources-6.0.1-py3-none-any.whl.metadata\n",
      "  Downloading importlib_resources-6.0.1-py3-none-any.whl.metadata (4.0 kB)\n",
      "Collecting bcrypt>=4.0.1 (from chromadb)\n",
      "  Downloading bcrypt-4.0.1-cp36-abi3-macosx_10_10_universal2.whl (473 kB)\n",
      "\u001b[2K     \u001b[90m━━━━━━━━━━━━━━━━━━━━━━━━━━━━━━━━━━━━━━━\u001b[0m \u001b[32m473.4/473.4 kB\u001b[0m \u001b[31m4.0 MB/s\u001b[0m eta \u001b[36m0:00:00\u001b[0ma \u001b[36m0:00:01\u001b[0m\n",
      "\u001b[?25hRequirement already satisfied: attrs>=17.3.0 in /Volumes/home-ssd/patrick/Library/Caches/pypoetry/virtualenvs/london-devops-2Fa23Xyl-py3.11/lib/python3.11/site-packages (from aiohttp<4.0.0,>=3.8.3->langchain) (23.1.0)\n",
      "Requirement already satisfied: charset-normalizer<4.0,>=2.0 in /Volumes/home-ssd/patrick/Library/Caches/pypoetry/virtualenvs/london-devops-2Fa23Xyl-py3.11/lib/python3.11/site-packages (from aiohttp<4.0.0,>=3.8.3->langchain) (3.2.0)\n",
      "Requirement already satisfied: multidict<7.0,>=4.5 in /Volumes/home-ssd/patrick/Library/Caches/pypoetry/virtualenvs/london-devops-2Fa23Xyl-py3.11/lib/python3.11/site-packages (from aiohttp<4.0.0,>=3.8.3->langchain) (6.0.4)\n",
      "Requirement already satisfied: async-timeout<5.0,>=4.0.0a3 in /Volumes/home-ssd/patrick/Library/Caches/pypoetry/virtualenvs/london-devops-2Fa23Xyl-py3.11/lib/python3.11/site-packages (from aiohttp<4.0.0,>=3.8.3->langchain) (4.0.3)\n",
      "Requirement already satisfied: yarl<2.0,>=1.0 in /Volumes/home-ssd/patrick/Library/Caches/pypoetry/virtualenvs/london-devops-2Fa23Xyl-py3.11/lib/python3.11/site-packages (from aiohttp<4.0.0,>=3.8.3->langchain) (1.9.2)\n",
      "Requirement already satisfied: frozenlist>=1.1.1 in /Volumes/home-ssd/patrick/Library/Caches/pypoetry/virtualenvs/london-devops-2Fa23Xyl-py3.11/lib/python3.11/site-packages (from aiohttp<4.0.0,>=3.8.3->langchain) (1.4.0)\n",
      "Requirement already satisfied: aiosignal>=1.1.2 in /Volumes/home-ssd/patrick/Library/Caches/pypoetry/virtualenvs/london-devops-2Fa23Xyl-py3.11/lib/python3.11/site-packages (from aiohttp<4.0.0,>=3.8.3->langchain) (1.3.1)\n",
      "Requirement already satisfied: marshmallow<4.0.0,>=3.18.0 in /Volumes/home-ssd/patrick/Library/Caches/pypoetry/virtualenvs/london-devops-2Fa23Xyl-py3.11/lib/python3.11/site-packages (from dataclasses-json<0.6.0,>=0.5.7->langchain) (3.20.1)\n",
      "Requirement already satisfied: typing-inspect<1,>=0.4.0 in /Volumes/home-ssd/patrick/Library/Caches/pypoetry/virtualenvs/london-devops-2Fa23Xyl-py3.11/lib/python3.11/site-packages (from dataclasses-json<0.6.0,>=0.5.7->langchain) (0.9.0)\n",
      "Collecting starlette<0.28.0,>=0.27.0 (from fastapi<0.100.0,>=0.95.2->chromadb)\n",
      "  Obtaining dependency information for starlette<0.28.0,>=0.27.0 from https://files.pythonhosted.org/packages/58/f8/e2cca22387965584a409795913b774235752be4176d276714e15e1a58884/starlette-0.27.0-py3-none-any.whl.metadata\n",
      "  Downloading starlette-0.27.0-py3-none-any.whl.metadata (5.8 kB)\n",
      "Collecting coloredlogs (from onnxruntime>=1.14.1->chromadb)\n",
      "  Using cached coloredlogs-15.0.1-py2.py3-none-any.whl (46 kB)\n",
      "Collecting flatbuffers (from onnxruntime>=1.14.1->chromadb)\n",
      "  Obtaining dependency information for flatbuffers from https://files.pythonhosted.org/packages/6f/12/d5c79ee252793ffe845d58a913197bfa02ae9a0b5c9bc3dc4b58d477b9e7/flatbuffers-23.5.26-py2.py3-none-any.whl.metadata\n",
      "  Downloading flatbuffers-23.5.26-py2.py3-none-any.whl.metadata (850 bytes)\n",
      "Requirement already satisfied: packaging in /Volumes/home-ssd/patrick/Library/Caches/pypoetry/virtualenvs/london-devops-2Fa23Xyl-py3.11/lib/python3.11/site-packages (from onnxruntime>=1.14.1->chromadb) (23.1)\n",
      "Collecting protobuf (from onnxruntime>=1.14.1->chromadb)\n",
      "  Obtaining dependency information for protobuf from https://files.pythonhosted.org/packages/ac/8f/a7e5dfc2d285526c74b82f118d5b4857875f39405aa1d6f1df56ef25a070/protobuf-4.24.2-cp37-abi3-macosx_10_9_universal2.whl.metadata\n",
      "  Downloading protobuf-4.24.2-cp37-abi3-macosx_10_9_universal2.whl.metadata (540 bytes)\n",
      "Collecting sympy (from onnxruntime>=1.14.1->chromadb)\n",
      "  Using cached sympy-1.12-py3-none-any.whl (5.7 MB)\n",
      "Requirement already satisfied: six>=1.5 in /Volumes/home-ssd/patrick/Library/Caches/pypoetry/virtualenvs/london-devops-2Fa23Xyl-py3.11/lib/python3.11/site-packages (from posthog>=2.4.0->chromadb) (1.16.0)\n",
      "Collecting monotonic>=1.5 (from posthog>=2.4.0->chromadb)\n",
      "  Using cached monotonic-1.6-py2.py3-none-any.whl (8.2 kB)\n",
      "Collecting backoff>=1.10.0 (from posthog>=2.4.0->chromadb)\n",
      "  Using cached backoff-2.2.1-py3-none-any.whl (15 kB)\n",
      "Requirement already satisfied: python-dateutil>2.1 in /Volumes/home-ssd/patrick/Library/Caches/pypoetry/virtualenvs/london-devops-2Fa23Xyl-py3.11/lib/python3.11/site-packages (from posthog>=2.4.0->chromadb) (2.8.2)\n",
      "Requirement already satisfied: certifi in /Volumes/home-ssd/patrick/Library/Caches/pypoetry/virtualenvs/london-devops-2Fa23Xyl-py3.11/lib/python3.11/site-packages (from pulsar-client>=3.1.0->chromadb) (2023.7.22)\n",
      "Requirement already satisfied: idna<4,>=2.5 in /Volumes/home-ssd/patrick/Library/Caches/pypoetry/virtualenvs/london-devops-2Fa23Xyl-py3.11/lib/python3.11/site-packages (from requests<3,>=2->langchain) (3.4)\n",
      "Requirement already satisfied: urllib3<3,>=1.21.1 in /Volumes/home-ssd/patrick/Library/Caches/pypoetry/virtualenvs/london-devops-2Fa23Xyl-py3.11/lib/python3.11/site-packages (from requests<3,>=2->langchain) (2.0.4)\n",
      "Requirement already satisfied: click>=7.0 in /Volumes/home-ssd/patrick/Library/Caches/pypoetry/virtualenvs/london-devops-2Fa23Xyl-py3.11/lib/python3.11/site-packages (from uvicorn[standard]>=0.18.3->chromadb) (8.1.7)\n",
      "Collecting h11>=0.8 (from uvicorn[standard]>=0.18.3->chromadb)\n",
      "  Using cached h11-0.14.0-py3-none-any.whl (58 kB)\n",
      "Collecting httptools>=0.5.0 (from uvicorn[standard]>=0.18.3->chromadb)\n",
      "  Obtaining dependency information for httptools>=0.5.0 from https://files.pythonhosted.org/packages/85/df/63720eadbadca00b7f91bc724972ca3a946670598354bef1de779c7c62e2/httptools-0.6.0-cp311-cp311-macosx_10_9_universal2.whl.metadata\n",
      "  Downloading httptools-0.6.0-cp311-cp311-macosx_10_9_universal2.whl.metadata (3.6 kB)\n",
      "Collecting uvloop!=0.15.0,!=0.15.1,>=0.14.0 (from uvicorn[standard]>=0.18.3->chromadb)\n",
      "  Using cached uvloop-0.17.0-cp311-cp311-macosx_10_9_universal2.whl (2.1 MB)\n",
      "Collecting watchfiles>=0.13 (from uvicorn[standard]>=0.18.3->chromadb)\n",
      "  Obtaining dependency information for watchfiles>=0.13 from https://files.pythonhosted.org/packages/9f/1a/85c914e4db62a3f8197daa98a271ea380a5d200a8d3058bd9f417752bc26/watchfiles-0.20.0-cp37-abi3-macosx_11_0_arm64.whl.metadata\n",
      "  Downloading watchfiles-0.20.0-cp37-abi3-macosx_11_0_arm64.whl.metadata (4.9 kB)\n",
      "Collecting websockets>=10.4 (from uvicorn[standard]>=0.18.3->chromadb)\n",
      "  Using cached websockets-11.0.3-cp311-cp311-macosx_11_0_arm64.whl (121 kB)\n",
      "Collecting anyio<5,>=3.4.0 (from starlette<0.28.0,>=0.27.0->fastapi<0.100.0,>=0.95.2->chromadb)\n",
      "  Obtaining dependency information for anyio<5,>=3.4.0 from https://files.pythonhosted.org/packages/36/55/ad4de788d84a630656ece71059665e01ca793c04294c463fd84132f40fe6/anyio-4.0.0-py3-none-any.whl.metadata\n",
      "  Downloading anyio-4.0.0-py3-none-any.whl.metadata (4.5 kB)\n",
      "Requirement already satisfied: mypy-extensions>=0.3.0 in /Volumes/home-ssd/patrick/Library/Caches/pypoetry/virtualenvs/london-devops-2Fa23Xyl-py3.11/lib/python3.11/site-packages (from typing-inspect<1,>=0.4.0->dataclasses-json<0.6.0,>=0.5.7->langchain) (1.0.0)\n",
      "Collecting humanfriendly>=9.1 (from coloredlogs->onnxruntime>=1.14.1->chromadb)\n",
      "  Using cached humanfriendly-10.0-py2.py3-none-any.whl (86 kB)\n",
      "Collecting mpmath>=0.19 (from sympy->onnxruntime>=1.14.1->chromadb)\n",
      "  Using cached mpmath-1.3.0-py3-none-any.whl (536 kB)\n",
      "Collecting sniffio>=1.1 (from anyio<5,>=3.4.0->starlette<0.28.0,>=0.27.0->fastapi<0.100.0,>=0.95.2->chromadb)\n",
      "  Using cached sniffio-1.3.0-py3-none-any.whl (10 kB)\n",
      "Downloading chromadb-0.4.8-py3-none-any.whl (418 kB)\n",
      "\u001b[2K   \u001b[90m━━━━━━━━━━━━━━━━━━━━━━━━━━━━━━━━━━━━━━━━\u001b[0m \u001b[32m418.3/418.3 kB\u001b[0m \u001b[31m4.1 MB/s\u001b[0m eta \u001b[36m0:00:00\u001b[0ma \u001b[36m0:00:01\u001b[0m\n",
      "\u001b[?25hDownloading fastapi-0.99.1-py3-none-any.whl (58 kB)\n",
      "\u001b[2K   \u001b[90m━━━━━━━━━━━━━━━━━━━━━━━━━━━━━━━━━━━━━━━━\u001b[0m \u001b[32m58.4/58.4 kB\u001b[0m \u001b[31m3.2 MB/s\u001b[0m eta \u001b[36m0:00:00\u001b[0m\n",
      "\u001b[?25hDownloading onnxruntime-1.15.1-cp311-cp311-macosx_11_0_arm64.whl (6.1 MB)\n",
      "\u001b[2K   \u001b[90m━━━━━━━━━━━━━━━━━━━━━━━━━━━━━━━━━━━━━━━━\u001b[0m \u001b[32m6.1/6.1 MB\u001b[0m \u001b[31m5.6 MB/s\u001b[0m eta \u001b[36m0:00:00\u001b[0m00:01\u001b[0m00:01\u001b[0m\n",
      "\u001b[?25hDownloading overrides-7.4.0-py3-none-any.whl (17 kB)\n",
      "Downloading posthog-3.0.2-py2.py3-none-any.whl (37 kB)\n",
      "Downloading pulsar_client-3.3.0-cp311-cp311-macosx_10_15_universal2.whl (10.9 MB)\n",
      "\u001b[2K   \u001b[90m━━━━━━━━━━━━━━━━━━━━━━━━━━━━━━━━━━━━━━━━\u001b[0m \u001b[32m10.9/10.9 MB\u001b[0m \u001b[31m7.6 MB/s\u001b[0m eta \u001b[36m0:00:00\u001b[0m00:01\u001b[0m00:01\u001b[0m\n",
      "\u001b[?25hDownloading pydantic-1.10.12-cp311-cp311-macosx_11_0_arm64.whl (2.5 MB)\n",
      "\u001b[2K   \u001b[90m━━━━━━━━━━━━━━━━━━━━━━━━━━━━━━━━━━━━━━━━\u001b[0m \u001b[32m2.5/2.5 MB\u001b[0m \u001b[31m9.8 MB/s\u001b[0m eta \u001b[36m0:00:00\u001b[0mta \u001b[36m0:00:01\u001b[0m\n",
      "\u001b[?25hDownloading importlib_resources-6.0.1-py3-none-any.whl (34 kB)\n",
      "Downloading httptools-0.6.0-cp311-cp311-macosx_10_9_universal2.whl (233 kB)\n",
      "\u001b[2K   \u001b[90m━━━━━━━━━━━━━━━━━━━━━━━━━━━━━━━━━━━━━━━━\u001b[0m \u001b[32m233.2/233.2 kB\u001b[0m \u001b[31m8.1 MB/s\u001b[0m eta \u001b[36m0:00:00\u001b[0m\n",
      "\u001b[?25hUsing cached starlette-0.27.0-py3-none-any.whl (66 kB)\n",
      "Downloading watchfiles-0.20.0-cp37-abi3-macosx_11_0_arm64.whl (407 kB)\n",
      "\u001b[2K   \u001b[90m━━━━━━━━━━━━━━━━━━━━━━━━━━━━━━━━━━━━━━━━\u001b[0m \u001b[32m407.3/407.3 kB\u001b[0m \u001b[31m9.5 MB/s\u001b[0m eta \u001b[36m0:00:00\u001b[0m:00:01\u001b[0m\n",
      "\u001b[?25hUsing cached flatbuffers-23.5.26-py2.py3-none-any.whl (26 kB)\n",
      "Downloading protobuf-4.24.2-cp37-abi3-macosx_10_9_universal2.whl (409 kB)\n",
      "\u001b[2K   \u001b[90m━━━━━━━━━━━━━━━━━━━━━━━━━━━━━━━━━━━━━━━━\u001b[0m \u001b[32m409.3/409.3 kB\u001b[0m \u001b[31m10.1 MB/s\u001b[0m eta \u001b[36m0:00:00\u001b[0m00:01\u001b[0m\n",
      "\u001b[?25hDownloading uvicorn-0.23.2-py3-none-any.whl (59 kB)\n",
      "\u001b[2K   \u001b[90m━━━━━━━━━━━━━━━━━━━━━━━━━━━━━━━━━━━━━━━━\u001b[0m \u001b[32m59.5/59.5 kB\u001b[0m \u001b[31m7.2 MB/s\u001b[0m eta \u001b[36m0:00:00\u001b[0m\n",
      "\u001b[?25hDownloading anyio-4.0.0-py3-none-any.whl (83 kB)\n",
      "\u001b[2K   \u001b[90m━━━━━━━━━━━━━━━━━━━━━━━━━━━━━━━━━━━━━━━━\u001b[0m \u001b[32m83.1/83.1 kB\u001b[0m \u001b[31m6.9 MB/s\u001b[0m eta \u001b[36m0:00:00\u001b[0m\n",
      "\u001b[?25hBuilding wheels for collected packages: chroma-hnswlib, pypika\n",
      "  Building wheel for chroma-hnswlib (pyproject.toml) ... \u001b[?25ldone\n",
      "\u001b[?25h  Created wheel for chroma-hnswlib: filename=chroma_hnswlib-0.7.2-cp311-cp311-macosx_13_0_arm64.whl size=195661 sha256=293d13527f5e9d4b42b31ca9933c4d3adc2285e7967c30441c7cdab2064ee498\n",
      "  Stored in directory: /Volumes/home-ssd/patrick/Library/Caches/pip/wheels/1e/fb/8d/3c2f10bfe53319fa5d6dc00886919aec106ffb442e1d3379fb\n",
      "  Building wheel for pypika (pyproject.toml) ... \u001b[?25ldone\n",
      "\u001b[?25h  Created wheel for pypika: filename=PyPika-0.48.9-py2.py3-none-any.whl size=53723 sha256=5962e8e73b8b3b6f87fe69e3753be18a059c07f920e09f19c8d11c14fa5930a4\n",
      "  Stored in directory: /Volumes/home-ssd/patrick/Library/Caches/pip/wheels/a3/01/bd/4c40ceb9d5354160cb186dcc153360f4ab7eb23e2b24daf96d\n",
      "Successfully built chroma-hnswlib pypika\n",
      "Installing collected packages: tokenizers, pypika, mpmath, monotonic, flatbuffers, websockets, uvloop, sympy, sniffio, pydantic, pulsar-client, protobuf, overrides, importlib-resources, humanfriendly, httptools, h11, chroma-hnswlib, bcrypt, backoff, uvicorn, posthog, coloredlogs, anyio, watchfiles, starlette, onnxruntime, fastapi, chromadb\n",
      "  Attempting uninstall: pydantic\n",
      "    Found existing installation: pydantic 2.3.0\n",
      "    Uninstalling pydantic-2.3.0:\n",
      "      Successfully uninstalled pydantic-2.3.0\n",
      "Successfully installed anyio-4.0.0 backoff-2.2.1 bcrypt-4.0.1 chroma-hnswlib-0.7.2 chromadb-0.4.8 coloredlogs-15.0.1 fastapi-0.99.1 flatbuffers-23.5.26 h11-0.14.0 httptools-0.6.0 humanfriendly-10.0 importlib-resources-6.0.1 monotonic-1.6 mpmath-1.3.0 onnxruntime-1.15.1 overrides-7.4.0 posthog-3.0.2 protobuf-4.24.2 pulsar-client-3.3.0 pydantic-1.10.12 pypika-0.48.9 sniffio-1.3.0 starlette-0.27.0 sympy-1.12 tokenizers-0.13.3 uvicorn-0.23.2 uvloop-0.17.0 watchfiles-0.20.0 websockets-11.0.3\n",
      "Note: you may need to restart the kernel to use updated packages.\n"
     ]
    }
   ],
   "source": [
    "%pip install langchain python-dotenv openai tiktoken chromadb"
   ]
  },
  {
   "cell_type": "markdown",
   "metadata": {},
   "source": [
    "We first split the markdown doc again"
   ]
  },
  {
   "cell_type": "code",
   "execution_count": 2,
   "metadata": {},
   "outputs": [
    {
     "name": "stdout",
     "output_type": "stream",
     "text": [
      "[Document(page_content='Devopsdays is a worldwide series of technical conferences covering topics of software development, IT infrastructure operations, and the intersection between them. Each event is run by volunteers from the local area.  \\nMost devopsdays events feature a combination of curated talks (see open Calls for Proposals) and self organized open space content. Topics often include automation, testing, security, and organizational culture.', metadata={'Header 1': 'A history lesson on Devops', 'Header 2': 'Devopsdays'}),\n",
      " Document(page_content='The first devopsdays was held in Ghent, Belgium in 2009. Since then, devopsdays events have multiplied, and if there isn’t one in your city, check out the information about organizing one yourself!', metadata={'Header 1': 'A history lesson on Devops', 'Header 2': 'Devopsdays', 'Header 3': 'History'}),\n",
      " Document(page_content='The devopsdays global core team guides local organizers in hosting their own devopsdays events worldwide. Active core organizers onboard and guide events, answer questions, and maintain the website. Advisory core organizers are less involved day-to-day but weigh in on important matters and assist as needed. Emeritus core organizers are no longer involved in the core team; we thank them for their past efforts.', metadata={'Header 1': 'A history lesson on Devops', 'Header 2': 'Devopsdays', 'Header 3': 'About the organization'}),\n",
      " Document(page_content='The Devops Handbook was written by the following authors: Gene Kim, Jez Humble , John Willis , Patrick Debois and John Allspaw.  \\nGene Kim is a multiple award-winning entrepreneur, the founder and former CTO of Tripwire and a researcher. He is passionate about IT operations, security and compliance, and how IT organizations successfully transform from \"good to great.\"\\x9d He lives in Portland, Oregon.  \\nJez Humble is an award-winning author and researcher on software who has spent his career tinkering with code, infrastructure, and product development in organizations of varying sizes across three continents. He works at 18F, teaches at UC Berkeley, and is co-founder of DevOps Research and Assessment LLC.  \\nPatrick Debois is an independent IT-consultant who is bridging the gap between projects and operations by using Agile techniques both in development, project management and system administration.  \\nJohn Willis has worked in the IT management industry for more than 30 years. He has authored six IBM Redbooks for IBM on enterprise systems management and was the founder and chief architect at Chain Bridge Systems. He lives in Atlanta, Georgia.', metadata={'Header 1': 'A history lesson on Devops', 'Header 2': 'Devops Handbook authors'}),\n",
      " Document(page_content='As a reaction of Devops, Security got its own name and movement.\\nNotably it talks about Shifting Security left.', metadata={'Header 1': 'A history lesson on Devops', 'Header 2': 'DevSecOps'})]\n"
     ]
    }
   ],
   "source": [
    "from langchain.text_splitter import MarkdownHeaderTextSplitter\n",
    "from langchain.embeddings.openai import OpenAIEmbeddings\n",
    "from langchain.vectorstores import Chroma\n",
    "\n",
    "# We load the texts\n",
    "from langchain.text_splitter import MarkdownHeaderTextSplitter\n",
    "\n",
    "history_raw_text = \"\"\n",
    "    # This is a long document we can split up.\n",
    "with open(\"data/history.md\") as f:\n",
    "    history_raw_text = f.read()\n",
    "    \n",
    "headers_to_split_on = [\n",
    "    (\"#\", \"Header 1\"),\n",
    "    (\"##\", \"Header 2\"),\n",
    "    (\"###\", \"Header 3\"),\n",
    "]\n",
    "md_splitter = MarkdownHeaderTextSplitter(headers_to_split_on=headers_to_split_on)\n",
    "raw_documents = md_splitter.split_text(history_raw_text)\n",
    "\n",
    "from pprint import pprint\n",
    "pprint(raw_documents)"
   ]
  },
  {
   "cell_type": "markdown",
   "metadata": {},
   "source": [
    "And now we use Chromadb as vector database. \n",
    "Note: We first reset it as we are running this for demos"
   ]
  },
  {
   "cell_type": "code",
   "execution_count": 3,
   "metadata": {},
   "outputs": [
    {
     "data": {
      "text/plain": [
       "True"
      ]
     },
     "execution_count": 3,
     "metadata": {},
     "output_type": "execute_result"
    }
   ],
   "source": [
    "\n",
    "\n",
    "# Resetting chromadb just in case\n",
    "import chromadb\n",
    "from chromadb import Settings\n",
    "client = chromadb.Client(settings=Settings(allow_reset=True))\n",
    "client.reset()\n"
   ]
  },
  {
   "cell_type": "markdown",
   "metadata": {},
   "source": [
    "Given the embeddings function and given our documents we ask the vector database to take care of this for us."
   ]
  },
  {
   "cell_type": "code",
   "execution_count": 4,
   "metadata": {},
   "outputs": [],
   "source": [
    "# Set the embeddings function\n",
    "embeddings_model = OpenAIEmbeddings()\n",
    "\n",
    "# Vectory database will calculate them using the embeddings_model provided\n",
    "# and store the embeddings for each doc in it's database\n",
    "db = Chroma.from_documents(raw_documents, embeddings_model)"
   ]
  },
  {
   "cell_type": "markdown",
   "metadata": {},
   "source": [
    "Once stored , we can ask it to find the related documents through embeddings."
   ]
  },
  {
   "cell_type": "code",
   "execution_count": 5,
   "metadata": {},
   "outputs": [
    {
     "name": "stdout",
     "output_type": "stream",
     "text": [
      "[(Document(page_content='The Devops Handbook was written by the following authors: Gene Kim, Jez Humble , John Willis , Patrick Debois and John Allspaw.  \\nGene Kim is a multiple award-winning entrepreneur, the founder and former CTO of Tripwire and a researcher. He is passionate about IT operations, security and compliance, and how IT organizations successfully transform from \"good to great.\"\\x9d He lives in Portland, Oregon.  \\nJez Humble is an award-winning author and researcher on software who has spent his career tinkering with code, infrastructure, and product development in organizations of varying sizes across three continents. He works at 18F, teaches at UC Berkeley, and is co-founder of DevOps Research and Assessment LLC.  \\nPatrick Debois is an independent IT-consultant who is bridging the gap between projects and operations by using Agile techniques both in development, project management and system administration.  \\nJohn Willis has worked in the IT management industry for more than 30 years. He has authored six IBM Redbooks for IBM on enterprise systems management and was the founder and chief architect at Chain Bridge Systems. He lives in Atlanta, Georgia.', metadata={'Header 1': 'A history lesson on Devops', 'Header 2': 'Devops Handbook authors'}),\n",
      "  0.7154346362449346)]\n"
     ]
    }
   ],
   "source": [
    "query = \"Who wrote the Devops Handbook? return the results as json and use the field firstname and lastname\"\n",
    "#Return the result as json and use the field firstname and lastname\"\n",
    "docs = db.similarity_search_with_relevance_scores(query, k=4, score_threshold=0.7)\n",
    "pprint(docs)"
   ]
  }
 ],
 "metadata": {
  "kernelspec": {
   "display_name": "london-devops-VW7lFx7f-py3.11",
   "language": "python",
   "name": "python3"
  },
  "language_info": {
   "codemirror_mode": {
    "name": "ipython",
    "version": 3
   },
   "file_extension": ".py",
   "mimetype": "text/x-python",
   "name": "python",
   "nbconvert_exporter": "python",
   "pygments_lexer": "ipython3",
   "version": "3.11.4"
  },
  "orig_nbformat": 4
 },
 "nbformat": 4,
 "nbformat_minor": 2
}
